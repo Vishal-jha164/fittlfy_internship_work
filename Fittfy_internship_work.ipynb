{
 "cells": [
  {
   "cell_type": "markdown",
   "id": "f065bcf8",
   "metadata": {},
   "source": [
    "# Fittlyf-Internship-Work"
   ]
  },
  {
   "cell_type": "raw",
   "id": "50b329f8",
   "metadata": {},
   "source": [
    "Submitted By : Vishal kumar jha"
   ]
  },
  {
   "cell_type": "code",
   "execution_count": 1,
   "id": "4663a716",
   "metadata": {},
   "outputs": [],
   "source": [
    "%matplotlib inline\n",
    "import pandas as pd\n",
    "import numpy as np\n",
    "import matplotlib\n",
    "import matplotlib.pyplot as plt\n",
    "import seaborn as sns\n",
    "\n",
    "# Default style and font sizes for our charts\n",
    "\n",
    "sns.set_style('darkgrid')\n",
    "matplotlib.rcParams['font.size'] = 14\n",
    "matplotlib.rcParams['figure.figsize'] = (10, 6)\n",
    "matplotlib.rcParams['figure.facecolor'] = '#00000000'"
   ]
  },
  {
   "cell_type": "markdown",
   "id": "444c1715",
   "metadata": {},
   "source": [
    "# Part 1 - (FICO + Region)"
   ]
  },
  {
   "cell_type": "markdown",
   "id": "de4f5850",
   "metadata": {},
   "source": [
    "Attached are two sample datasets: the first one is called FICO and it contains customer ids and individual FICO scores. The second one is named Region. It holds the same customer ids and regions where each customer is located."
   ]
  },
  {
   "cell_type": "markdown",
   "id": "e9092190",
   "metadata": {},
   "source": [
    "# Task 1"
   ]
  },
  {
   "cell_type": "markdown",
   "id": "b74ec943",
   "metadata": {},
   "source": [
    "You are tasked to explore the FICO dataset. Walk us through your process on the tasks below:\n",
    "\n",
    "1.1 : You need to think about cleaning the data first. Common data problems include duplicates, missing, and errors in the data. Mark rows with data problems as “Missing” in the FICO column.\n",
    "1.2 : Think about what you know about credit scores. Segment the FICO scores into 5 groups. Give your reasoning for the bucketing. Display the number of customers and percentage of each segment in your answer and create a histogram of the distribution if you are using Python.\n",
    "1.3 : Do you notice anything particular about this distribution? Do you think this reflects what’s happening in the real world?"
   ]
  },
  {
   "cell_type": "code",
   "execution_count": 2,
   "id": "f0903c1f",
   "metadata": {},
   "outputs": [
    {
     "data": {
      "text/html": [
       "<div>\n",
       "<style scoped>\n",
       "    .dataframe tbody tr th:only-of-type {\n",
       "        vertical-align: middle;\n",
       "    }\n",
       "\n",
       "    .dataframe tbody tr th {\n",
       "        vertical-align: top;\n",
       "    }\n",
       "\n",
       "    .dataframe thead th {\n",
       "        text-align: right;\n",
       "    }\n",
       "</style>\n",
       "<table border=\"1\" class=\"dataframe\">\n",
       "  <thead>\n",
       "    <tr style=\"text-align: right;\">\n",
       "      <th></th>\n",
       "      <th>acct_id</th>\n",
       "      <th>FICO</th>\n",
       "    </tr>\n",
       "  </thead>\n",
       "  <tbody>\n",
       "    <tr>\n",
       "      <th>7035</th>\n",
       "      <td>7031</td>\n",
       "      <td>842</td>\n",
       "    </tr>\n",
       "    <tr>\n",
       "      <th>18463</th>\n",
       "      <td>18459</td>\n",
       "      <td>850</td>\n",
       "    </tr>\n",
       "    <tr>\n",
       "      <th>39260</th>\n",
       "      <td>39248</td>\n",
       "      <td>761</td>\n",
       "    </tr>\n",
       "    <tr>\n",
       "      <th>97500</th>\n",
       "      <td>97488</td>\n",
       "      <td>850</td>\n",
       "    </tr>\n",
       "    <tr>\n",
       "      <th>5639</th>\n",
       "      <td>5635</td>\n",
       "      <td>747</td>\n",
       "    </tr>\n",
       "  </tbody>\n",
       "</table>\n",
       "</div>"
      ],
      "text/plain": [
       "       acct_id FICO\n",
       "7035      7031  842\n",
       "18463    18459  850\n",
       "39260    39248  761\n",
       "97500    97488  850\n",
       "5639      5635  747"
      ]
     },
     "execution_count": 2,
     "metadata": {},
     "output_type": "execute_result"
    }
   ],
   "source": [
    "# Load the FICO dataset\n",
    "\n",
    "fico_data = pd.read_csv(\"Downloads/fico.csv\")\n",
    "fico_data.sample(5)"
   ]
  },
  {
   "cell_type": "code",
   "execution_count": 3,
   "id": "dff5fe9d",
   "metadata": {},
   "outputs": [
    {
     "data": {
      "text/plain": [
       "(100013, 2)"
      ]
     },
     "execution_count": 3,
     "metadata": {},
     "output_type": "execute_result"
    }
   ],
   "source": [
    "# Shape of our dataset\n",
    "\n",
    "fico_data.shape"
   ]
  },
  {
   "cell_type": "code",
   "execution_count": 4,
   "id": "49ec62b1",
   "metadata": {},
   "outputs": [
    {
     "name": "stdout",
     "output_type": "stream",
     "text": [
      "<class 'pandas.core.frame.DataFrame'>\n",
      "RangeIndex: 100013 entries, 0 to 100012\n",
      "Data columns (total 2 columns):\n",
      " #   Column   Non-Null Count   Dtype \n",
      "---  ------   --------------   ----- \n",
      " 0   acct_id  100013 non-null  int64 \n",
      " 1   FICO     70398 non-null   object\n",
      "dtypes: int64(1), object(1)\n",
      "memory usage: 1.1+ MB\n"
     ]
    }
   ],
   "source": [
    "# Basic information about dataset\n",
    "\n",
    "fico_data.info()"
   ]
  },
  {
   "cell_type": "raw",
   "id": "e3da418e",
   "metadata": {},
   "source": [
    "Task 1.1\n",
    "You need to think about cleaning the data first. Common data problems include duplicates, missing, and errors in the data. Mark rows with data problems as “Missing” in the FICO column."
   ]
  },
  {
   "cell_type": "code",
   "execution_count": 5,
   "id": "67a80e7c",
   "metadata": {},
   "outputs": [
    {
     "data": {
      "text/plain": [
       "acct_id        0\n",
       "FICO       29615\n",
       "dtype: int64"
      ]
     },
     "execution_count": 5,
     "metadata": {},
     "output_type": "execute_result"
    }
   ],
   "source": [
    "# Check for NA or missing values\n",
    "\n",
    "fico_data.isna().sum()\n"
   ]
  },
  {
   "cell_type": "code",
   "execution_count": 6,
   "id": "529ab6a3",
   "metadata": {},
   "outputs": [
    {
     "data": {
      "text/plain": [
       "29.61"
      ]
     },
     "execution_count": 6,
     "metadata": {},
     "output_type": "execute_result"
    }
   ],
   "source": [
    "# Percetnage of Data Missing\n",
    "\n",
    "fico_missing = (fico_data['FICO'].isna().sum()/fico_data.shape[0])*100\n",
    "fico_missing.round(2)\n"
   ]
  },
  {
   "cell_type": "code",
   "execution_count": 7,
   "id": "070cd9b9",
   "metadata": {},
   "outputs": [
    {
     "data": {
      "text/plain": [
       "acct_id    100000\n",
       "FICO          377\n",
       "dtype: int64"
      ]
     },
     "execution_count": 7,
     "metadata": {},
     "output_type": "execute_result"
    }
   ],
   "source": [
    "# Check for number of unique values\n",
    "\n",
    "fico_data.nunique()\n"
   ]
  },
  {
   "cell_type": "code",
   "execution_count": 8,
   "id": "a17779c6",
   "metadata": {},
   "outputs": [
    {
     "data": {
      "text/plain": [
       "0.376951"
      ]
     },
     "execution_count": 8,
     "metadata": {},
     "output_type": "execute_result"
    }
   ],
   "source": [
    "# Percetnage of Unique FICO Values \n",
    "\n",
    "fico_unique = (fico_data['FICO'].nunique()/fico_data.shape[0])*100\n",
    "round(fico_unique,6)"
   ]
  },
  {
   "cell_type": "code",
   "execution_count": 9,
   "id": "43e62f59",
   "metadata": {},
   "outputs": [
    {
     "data": {
      "text/plain": [
       "array(['768', '850', '677', '843', '796', '669', '805', '838', nan, '794',\n",
       "       '832', '777', '809', '793', '746', '781', '812', '811', '849',\n",
       "       '820', '778', '848', '821', '534', '844', '788', '696', '829',\n",
       "       '740', '786', '802', '782', '816', '806', '828', '729', '751',\n",
       "       '764', '808', '792', '831', '824', '727', '836', '775', '765',\n",
       "       '735', '767', '839', '833', '807', '769', '715', '745', '803',\n",
       "       '799', '847', '672', '823', '776', '797', '724', '845', '841',\n",
       "       '693', '717', '754', '779', '565', '830', 'AA', '743', '825',\n",
       "       '752', '770', '800', '772', '759', '670', '826', '570', '790',\n",
       "       '817', '711', '678', '725', '842', '827', '710', '819', '700',\n",
       "       '822', '623', '771', '705', '627', '835', '742', '655', '834',\n",
       "       '762', '749', '753', '712', '798', '750', '837', '784', '737',\n",
       "       '814', '748', '739', '686', '633', '671', '684', '552', '783',\n",
       "       '756', '734', '703', '719', '720', '687', '801', '697', '553',\n",
       "       '721', '728', '722', '818', '716', '780', '695', '708', '726',\n",
       "       '709', '585', '795', '804', '682', '652', '785', '713', '744',\n",
       "       '732', '675', '815', '761', '699', '813', '787', '789', '766',\n",
       "       '757', '662', '649', '706', '588', '651', '542', '589', '741',\n",
       "       '692', '644', '629', '653', '707', '840', '701', '631', '731',\n",
       "       '665', '648', '667', '654', '611', '513', '773', '642', '658',\n",
       "       '760', '691', '645', '736', '763', '698', '679', '664', '758',\n",
       "       '730', '668', '596', '535', '685', '683', '694', '755', '614',\n",
       "       '564', '714', '791', '680', '747', '595', '704', '621', '501',\n",
       "       '657', '673', '618', '573', '609', '656', '566', '661', '616',\n",
       "       '674', '733', '500', '550', '538', '663', '636', '536', '676',\n",
       "       '688', '723', '689', '638', '690', '615', '540', '578', '681',\n",
       "       '557', '622', '600', '617', '555', '598', '523', '489', '625',\n",
       "       '637', '646', '569', '718', '604', '519', '606', '602', '647',\n",
       "       '624', '660', '605', '639', '632', '634', '575', '503', '628',\n",
       "       '587', '613', '635', '529', '549', '641', '599', '420', '562',\n",
       "       '650', '603', '601', '545', '610', '608', '643', '507', '620',\n",
       "       '567', '493', '592', '619', '612', '524', '607', '526', '659',\n",
       "       '518', '509', '511', '579', '527', '597', '640', '586', '576',\n",
       "       '521', '626', '544', '577', '546', '591', '559', '582', '583',\n",
       "       '531', '581', '584', '514', '502', '547', '541', '574', '568',\n",
       "       '572', '556', '472', '593', '494', '580', '543', '537', '551',\n",
       "       '528', '561', '440', '539', '471', '525', '483', '560', '554',\n",
       "       '487', '468', '563', '516', '512', '530', '491', '571', '533',\n",
       "       '479', '462', '497', '466', '548', '590', '506', '520', '496',\n",
       "       '504', '439', '517', '505', '456', '492', '532', '488', '508',\n",
       "       '475', '474', '485', '495', '510', '481', '499', '482', '469',\n",
       "       '447', '515', '455', '465', '460', '433', '498', 'SSS'],\n",
       "      dtype=object)"
      ]
     },
     "execution_count": 9,
     "metadata": {},
     "output_type": "execute_result"
    }
   ],
   "source": [
    "# What are those Unique Values ?\n",
    "\n",
    "fico_data['FICO'].unique()"
   ]
  },
  {
   "cell_type": "code",
   "execution_count": 10,
   "id": "8babf637",
   "metadata": {},
   "outputs": [
    {
     "data": {
      "text/html": [
       "<div>\n",
       "<style scoped>\n",
       "    .dataframe tbody tr th:only-of-type {\n",
       "        vertical-align: middle;\n",
       "    }\n",
       "\n",
       "    .dataframe tbody tr th {\n",
       "        vertical-align: top;\n",
       "    }\n",
       "\n",
       "    .dataframe thead th {\n",
       "        text-align: right;\n",
       "    }\n",
       "</style>\n",
       "<table border=\"1\" class=\"dataframe\">\n",
       "  <thead>\n",
       "    <tr style=\"text-align: right;\">\n",
       "      <th></th>\n",
       "      <th>acct_id</th>\n",
       "      <th>FICO</th>\n",
       "    </tr>\n",
       "  </thead>\n",
       "  <tbody>\n",
       "    <tr>\n",
       "      <th>133</th>\n",
       "      <td>134</td>\n",
       "      <td>AA</td>\n",
       "    </tr>\n",
       "    <tr>\n",
       "      <th>100011</th>\n",
       "      <td>99999</td>\n",
       "      <td>SSS</td>\n",
       "    </tr>\n",
       "  </tbody>\n",
       "</table>\n",
       "</div>"
      ],
      "text/plain": [
       "        acct_id FICO\n",
       "133         134   AA\n",
       "100011    99999  SSS"
      ]
     },
     "execution_count": 10,
     "metadata": {},
     "output_type": "execute_result"
    }
   ],
   "source": [
    "# Error/Odd values we found except `nan` values\n",
    "\n",
    "fico_data[fico_data['FICO'].isin(['AA','SSS'])]"
   ]
  },
  {
   "cell_type": "markdown",
   "id": "9531e247",
   "metadata": {},
   "source": [
    "Note :\n",
    "\n",
    "We can see that there's three odd values here [nan,AA,SSS] .\n",
    "nan denotes a missing value so we can ignore that.\n",
    "AA and SSS seem a little odd as FICO score, these can be considered as errors or maybe a special code given to certain customers. It's better to discuss with Domain Expert before ruling that out as an error.\n",
    "Finally, maybe because of them this column has an Object data type rather than regular numbers."
   ]
  },
  {
   "cell_type": "code",
   "execution_count": 11,
   "id": "6015629a",
   "metadata": {},
   "outputs": [
    {
     "data": {
      "text/html": [
       "<div>\n",
       "<style scoped>\n",
       "    .dataframe tbody tr th:only-of-type {\n",
       "        vertical-align: middle;\n",
       "    }\n",
       "\n",
       "    .dataframe tbody tr th {\n",
       "        vertical-align: top;\n",
       "    }\n",
       "\n",
       "    .dataframe thead th {\n",
       "        text-align: right;\n",
       "    }\n",
       "</style>\n",
       "<table border=\"1\" class=\"dataframe\">\n",
       "  <thead>\n",
       "    <tr style=\"text-align: right;\">\n",
       "      <th></th>\n",
       "      <th>acct_id</th>\n",
       "      <th>FICO</th>\n",
       "    </tr>\n",
       "  </thead>\n",
       "  <tbody>\n",
       "    <tr>\n",
       "      <th>140</th>\n",
       "      <td>140</td>\n",
       "      <td>752</td>\n",
       "    </tr>\n",
       "    <tr>\n",
       "      <th>190</th>\n",
       "      <td>189</td>\n",
       "      <td>745</td>\n",
       "    </tr>\n",
       "    <tr>\n",
       "      <th>192</th>\n",
       "      <td>190</td>\n",
       "      <td>828</td>\n",
       "    </tr>\n",
       "    <tr>\n",
       "      <th>194</th>\n",
       "      <td>191</td>\n",
       "      <td>752</td>\n",
       "    </tr>\n",
       "    <tr>\n",
       "      <th>196</th>\n",
       "      <td>192</td>\n",
       "      <td>850</td>\n",
       "    </tr>\n",
       "    <tr>\n",
       "      <th>30506</th>\n",
       "      <td>30501</td>\n",
       "      <td>773</td>\n",
       "    </tr>\n",
       "    <tr>\n",
       "      <th>30508</th>\n",
       "      <td>30502</td>\n",
       "      <td>798</td>\n",
       "    </tr>\n",
       "    <tr>\n",
       "      <th>30510</th>\n",
       "      <td>30503</td>\n",
       "      <td>820</td>\n",
       "    </tr>\n",
       "    <tr>\n",
       "      <th>30512</th>\n",
       "      <td>30504</td>\n",
       "      <td>NaN</td>\n",
       "    </tr>\n",
       "    <tr>\n",
       "      <th>30514</th>\n",
       "      <td>30505</td>\n",
       "      <td>820</td>\n",
       "    </tr>\n",
       "    <tr>\n",
       "      <th>30516</th>\n",
       "      <td>30506</td>\n",
       "      <td>NaN</td>\n",
       "    </tr>\n",
       "    <tr>\n",
       "      <th>30518</th>\n",
       "      <td>30507</td>\n",
       "      <td>NaN</td>\n",
       "    </tr>\n",
       "    <tr>\n",
       "      <th>30520</th>\n",
       "      <td>30508</td>\n",
       "      <td>850</td>\n",
       "    </tr>\n",
       "  </tbody>\n",
       "</table>\n",
       "</div>"
      ],
      "text/plain": [
       "       acct_id FICO\n",
       "140        140  752\n",
       "190        189  745\n",
       "192        190  828\n",
       "194        191  752\n",
       "196        192  850\n",
       "30506    30501  773\n",
       "30508    30502  798\n",
       "30510    30503  820\n",
       "30512    30504  NaN\n",
       "30514    30505  820\n",
       "30516    30506  NaN\n",
       "30518    30507  NaN\n",
       "30520    30508  850"
      ]
     },
     "execution_count": 11,
     "metadata": {},
     "output_type": "execute_result"
    }
   ],
   "source": [
    "# Check for duplicates \n",
    "\n",
    "dup_data = fico_data.duplicated(keep='first')\n",
    "fico_data[dup_data]\n"
   ]
  },
  {
   "cell_type": "code",
   "execution_count": 12,
   "id": "dfdd1156",
   "metadata": {},
   "outputs": [
    {
     "data": {
      "text/html": [
       "<div>\n",
       "<style scoped>\n",
       "    .dataframe tbody tr th:only-of-type {\n",
       "        vertical-align: middle;\n",
       "    }\n",
       "\n",
       "    .dataframe tbody tr th {\n",
       "        vertical-align: top;\n",
       "    }\n",
       "\n",
       "    .dataframe thead th {\n",
       "        text-align: right;\n",
       "    }\n",
       "</style>\n",
       "<table border=\"1\" class=\"dataframe\">\n",
       "  <thead>\n",
       "    <tr style=\"text-align: right;\">\n",
       "      <th></th>\n",
       "      <th>acct_id</th>\n",
       "      <th>FICO</th>\n",
       "    </tr>\n",
       "  </thead>\n",
       "  <tbody>\n",
       "    <tr>\n",
       "      <th>139</th>\n",
       "      <td>140</td>\n",
       "      <td>752</td>\n",
       "    </tr>\n",
       "    <tr>\n",
       "      <th>140</th>\n",
       "      <td>140</td>\n",
       "      <td>752</td>\n",
       "    </tr>\n",
       "  </tbody>\n",
       "</table>\n",
       "</div>"
      ],
      "text/plain": [
       "     acct_id FICO\n",
       "139      140  752\n",
       "140      140  752"
      ]
     },
     "execution_count": 12,
     "metadata": {},
     "output_type": "execute_result"
    }
   ],
   "source": [
    "# Cross Verify a Duplicate Value from the list\n",
    "\n",
    "fico_data[fico_data['acct_id']==140]"
   ]
  },
  {
   "cell_type": "code",
   "execution_count": 13,
   "id": "9a074a11",
   "metadata": {},
   "outputs": [
    {
     "data": {
      "text/plain": [
       "13"
      ]
     },
     "execution_count": 13,
     "metadata": {},
     "output_type": "execute_result"
    }
   ],
   "source": [
    "# Numbers of Duplicate Values\n",
    "\n",
    "fico_data[dup_data].shape[0]\n"
   ]
  },
  {
   "cell_type": "markdown",
   "id": "e5ed0cb5",
   "metadata": {},
   "source": [
    "Note :\n",
    "\n",
    "We can see that there's 13 Duplicate values present in our datatset. We can safely remove them as they are just duplicates and we have the orignal intact in our dataset.\n"
   ]
  },
  {
   "cell_type": "code",
   "execution_count": 14,
   "id": "5594850c",
   "metadata": {},
   "outputs": [
    {
     "data": {
      "text/plain": [
       "(100000, 2)"
      ]
     },
     "execution_count": 14,
     "metadata": {},
     "output_type": "execute_result"
    }
   ],
   "source": [
    "# Remove Duplicates\n",
    "\n",
    "fico_data = fico_data[~dup_data]\n",
    "fico_data.shape\n"
   ]
  },
  {
   "cell_type": "code",
   "execution_count": 15,
   "id": "52cb0850",
   "metadata": {},
   "outputs": [],
   "source": [
    "# Replace NA values with `Missing`\n",
    "\n",
    "fico_data['FICO'].fillna('Missing', inplace=True)"
   ]
  },
  {
   "cell_type": "code",
   "execution_count": 16,
   "id": "8c7090fc",
   "metadata": {},
   "outputs": [
    {
     "data": {
      "text/plain": [
       "71726        789\n",
       "61427    Missing\n",
       "78145    Missing\n",
       "87781    Missing\n",
       "12335    Missing\n",
       "Name: FICO, dtype: object"
      ]
     },
     "execution_count": 16,
     "metadata": {},
     "output_type": "execute_result"
    }
   ],
   "source": [
    "# Verify the 'Missing' lables\n",
    "\n",
    "fico_data['FICO'].sample(5)\n"
   ]
  },
  {
   "cell_type": "code",
   "execution_count": 17,
   "id": "afaf581b",
   "metadata": {},
   "outputs": [
    {
     "data": {
      "text/plain": [
       "acct_id    0\n",
       "FICO       0\n",
       "dtype: int64"
      ]
     },
     "execution_count": 17,
     "metadata": {},
     "output_type": "execute_result"
    }
   ],
   "source": [
    "# Cross verify for Missing Values\n",
    "\n",
    "fico_data.isna().sum()\n"
   ]
  },
  {
   "cell_type": "markdown",
   "id": "c8b677bd",
   "metadata": {},
   "source": [
    "Note :\n",
    "\n",
    "We pre-processed our dataset looking for any missing values, duplicates and error values.\n",
    "We found that 29615 values were missing in FICO column which is approx. 29.61 % of all data.\n",
    "We found that there are 377 unique values in FICO column and out of which we have three odd values - [nan,AA,SSS] .\n",
    "We checked for duplicate values and found 13 duplicate values in the datatset. We removed the duplicate values to clean our dataset.\n",
    "Finally we replaced all the missing nan values with our defined variable Missing.\n"
   ]
  },
  {
   "cell_type": "markdown",
   "id": "7c895780",
   "metadata": {},
   "source": [
    "Task 1.2\n",
    "Think about what you know about credit scores. Segment the FICO scores into 5 groups. Give your reasoning for the bucketing. Display the number of customers and percentage of each segment in your answer and create a histogram of the distribution if you are using Python.\n",
    "\n",
    "FICO Score : https://www.forbes.com/advisor/credit-score/what-is-a-good-credit-score/"
   ]
  },
  {
   "cell_type": "code",
   "execution_count": 18,
   "id": "baa66f78",
   "metadata": {},
   "outputs": [],
   "source": [
    "# We need to drop those values for Distributions & Graphs\n",
    "\n",
    "new_fico_data = fico_data[~fico_data['FICO'].isin(['AA','SSS','Missing'])]\n"
   ]
  },
  {
   "cell_type": "code",
   "execution_count": 19,
   "id": "565ec58b",
   "metadata": {},
   "outputs": [
    {
     "name": "stderr",
     "output_type": "stream",
     "text": [
      "<ipython-input-19-d625849b11af>:3: SettingWithCopyWarning: \n",
      "A value is trying to be set on a copy of a slice from a DataFrame.\n",
      "Try using .loc[row_indexer,col_indexer] = value instead\n",
      "\n",
      "See the caveats in the documentation: https://pandas.pydata.org/pandas-docs/stable/user_guide/indexing.html#returning-a-view-versus-a-copy\n",
      "  new_fico_data['FICO'] = pd.to_numeric(new_fico_data['FICO'])\n"
     ]
    }
   ],
   "source": [
    "# Finally Convert Dtype `Object` to `Numberic`\n",
    "\n",
    "new_fico_data['FICO'] = pd.to_numeric(new_fico_data['FICO'])\n"
   ]
  },
  {
   "cell_type": "code",
   "execution_count": 20,
   "id": "49fe485c",
   "metadata": {},
   "outputs": [
    {
     "name": "stdout",
     "output_type": "stream",
     "text": [
      "<class 'pandas.core.frame.DataFrame'>\n",
      "Int64Index: 70386 entries, 0 to 100004\n",
      "Data columns (total 2 columns):\n",
      " #   Column   Non-Null Count  Dtype\n",
      "---  ------   --------------  -----\n",
      " 0   acct_id  70386 non-null  int64\n",
      " 1   FICO     70386 non-null  int64\n",
      "dtypes: int64(2)\n",
      "memory usage: 1.6 MB\n"
     ]
    }
   ],
   "source": [
    "# Cross Verify\n",
    "\n",
    "new_fico_data.info()\n"
   ]
  },
  {
   "cell_type": "code",
   "execution_count": 21,
   "id": "203a56cf",
   "metadata": {},
   "outputs": [
    {
     "data": {
      "image/png": "[encoded data removed]",
      "text/plain": [
       "<Figure size 720x432 with 1 Axes>"
      ]
     },
     "metadata": {
      "needs_background": "light"
     },
     "output_type": "display_data"
    }
   ],
   "source": [
    "# Plot a Histogram for FICO Scores\n",
    "\n",
    "ax = new_fico_data['FICO'].plot.hist(density=True, bins=5)\n",
    "new_fico_data['FICO'].plot.density(ax=ax);\n",
    "ax.set_title(\"FICO Values Histogram\")\n",
    "ax.set_ylabel('Percentages')\n",
    "ax.set_xlabel('FICO Scores')\n",
    "plt.show()\n"
   ]
  },
  {
   "cell_type": "code",
   "execution_count": 22,
   "id": "675298e0",
   "metadata": {},
   "outputs": [
    {
     "data": {
      "image/png": "[encoded data removed]",
      "text/plain": [
       "<Figure size 720x432 with 1 Axes>"
      ]
     },
     "metadata": {
      "needs_background": "light"
     },
     "output_type": "display_data"
    }
   ],
   "source": [
    "# Plot histogram and KDE with Seaborn\n",
    "\n",
    "ax = sns.histplot(data=new_fico_data, x='FICO', kde=True, bins=5);\n",
    "ax.set_title(\"FICO Values Histogram\")\n",
    "ax.set_ylabel('Count')\n",
    "ax.set_xlabel('FICO Scores')\n",
    "plt.show()\n"
   ]
  },
  {
   "cell_type": "code",
   "execution_count": 23,
   "id": "aa24a894",
   "metadata": {},
   "outputs": [
    {
     "data": {
      "text/plain": [
       "count    70386.000000\n",
       "mean       785.747066\n",
       "std         64.603625\n",
       "min        420.000000\n",
       "25%        749.000000\n",
       "50%        804.000000\n",
       "75%        839.000000\n",
       "max        850.000000\n",
       "Name: FICO, dtype: float64"
      ]
     },
     "execution_count": 23,
     "metadata": {},
     "output_type": "execute_result"
    }
   ],
   "source": [
    "# Statistical Information\n",
    "\n",
    "new_fico_data['FICO'].describe()"
   ]
  },
  {
   "cell_type": "code",
   "execution_count": 24,
   "id": "92ec1ff0",
   "metadata": {},
   "outputs": [
    {
     "name": "stdout",
     "output_type": "stream",
     "text": [
      " Maximum Value : 850\n",
      " Maximum Value : 420\n",
      " In Between Range : 430\n",
      " Average Bin Size (5 Bins) : 86.0\n"
     ]
    }
   ],
   "source": [
    "print(f' Maximum Value : {new_fico_data[\"FICO\"].max()}')\n",
    "print(f' Maximum Value : {new_fico_data[\"FICO\"].min()}')\n",
    "print(f' In Between Range : {new_fico_data[\"FICO\"].max() - new_fico_data[\"FICO\"].min()}')\n",
    "print(f' Average Bin Size (5 Bins) : {(new_fico_data[\"FICO\"].max() - new_fico_data[\"FICO\"].min())/5}')\n"
   ]
  },
  {
   "cell_type": "markdown",
   "id": "e44245cb",
   "metadata": {},
   "source": [
    "Note :\n",
    "\n",
    "Option 1 : We can go for average bin size of 86.0 and have a equally spaced bin size.\n",
    "Option 2 : We start from 400 and increrment at 100 points up to 900 so we'll have 5 bins coverening min and max values.\n",
    "Option 3 : We can search online for the FICO scores and go with the critera provided by them.\n"
   ]
  },
  {
   "cell_type": "code",
   "execution_count": 25,
   "id": "81db11e8",
   "metadata": {},
   "outputs": [],
   "source": [
    "# Sample Function for Categorising\n",
    "\n",
    "def categorise_fico(dataset):\n",
    "    \"\"\"\n",
    "    This function helps to categorise the data into 5 Bins - ['Excellent','Very Good','Good','Fair','Poor']\n",
    "    \"\"\"\n",
    "    if dataset >= 800: # Condition 1\n",
    "        return 'Excellent'\n",
    "    if dataset >= 740 and dataset < 800: # Condition 2\n",
    "        return 'Very Good'\n",
    "    if dataset  >= 670 and dataset < 740: # Condition 3\n",
    "        return 'Good'\n",
    "    if dataset >= 580 and dataset < 670: # Condition 4\n",
    "        return 'Fair'\n",
    "    if dataset >= 300 and dataset < 580: # Condition 5\n",
    "        return 'Poor'\n"
   ]
  },
  {
   "cell_type": "markdown",
   "id": "89f32830",
   "metadata": {},
   "source": [
    "Note : I decided to go with the data and average group size given by Forbes as FICO Chart\n",
    "\n",
    "Link : https://www.forbes.com/advisor/credit-score/what-is-a-good-credit-score/"
   ]
  },
  {
   "cell_type": "code",
   "execution_count": 26,
   "id": "2cad52f0",
   "metadata": {},
   "outputs": [
    {
     "name": "stderr",
     "output_type": "stream",
     "text": [
      "<ipython-input-26-28230d77ce2a>:3: SettingWithCopyWarning: \n",
      "A value is trying to be set on a copy of a slice from a DataFrame.\n",
      "Try using .loc[row_indexer,col_indexer] = value instead\n",
      "\n",
      "See the caveats in the documentation: https://pandas.pydata.org/pandas-docs/stable/user_guide/indexing.html#returning-a-view-versus-a-copy\n",
      "  new_fico_data['Category'] = new_fico_data['FICO'].apply(categorise_fico)\n"
     ]
    },
    {
     "data": {
      "text/html": [
       "<div>\n",
       "<style scoped>\n",
       "    .dataframe tbody tr th:only-of-type {\n",
       "        vertical-align: middle;\n",
       "    }\n",
       "\n",
       "    .dataframe tbody tr th {\n",
       "        vertical-align: top;\n",
       "    }\n",
       "\n",
       "    .dataframe thead th {\n",
       "        text-align: right;\n",
       "    }\n",
       "</style>\n",
       "<table border=\"1\" class=\"dataframe\">\n",
       "  <thead>\n",
       "    <tr style=\"text-align: right;\">\n",
       "      <th></th>\n",
       "      <th>acct_id</th>\n",
       "      <th>FICO</th>\n",
       "      <th>Category</th>\n",
       "    </tr>\n",
       "  </thead>\n",
       "  <tbody>\n",
       "    <tr>\n",
       "      <th>73726</th>\n",
       "      <td>73714</td>\n",
       "      <td>792</td>\n",
       "      <td>Very Good</td>\n",
       "    </tr>\n",
       "    <tr>\n",
       "      <th>7325</th>\n",
       "      <td>7321</td>\n",
       "      <td>711</td>\n",
       "      <td>Good</td>\n",
       "    </tr>\n",
       "    <tr>\n",
       "      <th>76046</th>\n",
       "      <td>76034</td>\n",
       "      <td>836</td>\n",
       "      <td>Excellent</td>\n",
       "    </tr>\n",
       "    <tr>\n",
       "      <th>32524</th>\n",
       "      <td>32512</td>\n",
       "      <td>843</td>\n",
       "      <td>Excellent</td>\n",
       "    </tr>\n",
       "    <tr>\n",
       "      <th>88808</th>\n",
       "      <td>88796</td>\n",
       "      <td>834</td>\n",
       "      <td>Excellent</td>\n",
       "    </tr>\n",
       "    <tr>\n",
       "      <th>96528</th>\n",
       "      <td>96516</td>\n",
       "      <td>834</td>\n",
       "      <td>Excellent</td>\n",
       "    </tr>\n",
       "    <tr>\n",
       "      <th>25187</th>\n",
       "      <td>25183</td>\n",
       "      <td>788</td>\n",
       "      <td>Very Good</td>\n",
       "    </tr>\n",
       "    <tr>\n",
       "      <th>46771</th>\n",
       "      <td>46759</td>\n",
       "      <td>731</td>\n",
       "      <td>Good</td>\n",
       "    </tr>\n",
       "    <tr>\n",
       "      <th>68048</th>\n",
       "      <td>68036</td>\n",
       "      <td>739</td>\n",
       "      <td>Good</td>\n",
       "    </tr>\n",
       "    <tr>\n",
       "      <th>88581</th>\n",
       "      <td>88569</td>\n",
       "      <td>800</td>\n",
       "      <td>Excellent</td>\n",
       "    </tr>\n",
       "  </tbody>\n",
       "</table>\n",
       "</div>"
      ],
      "text/plain": [
       "       acct_id  FICO   Category\n",
       "73726    73714   792  Very Good\n",
       "7325      7321   711       Good\n",
       "76046    76034   836  Excellent\n",
       "32524    32512   843  Excellent\n",
       "88808    88796   834  Excellent\n",
       "96528    96516   834  Excellent\n",
       "25187    25183   788  Very Good\n",
       "46771    46759   731       Good\n",
       "68048    68036   739       Good\n",
       "88581    88569   800  Excellent"
      ]
     },
     "execution_count": 26,
     "metadata": {},
     "output_type": "execute_result"
    }
   ],
   "source": [
    "# Applying the functions to our Dataset\n",
    "\n",
    "new_fico_data['Category'] = new_fico_data['FICO'].apply(categorise_fico)\n",
    "new_fico_data.sample(10) # For Cross verification\n"
   ]
  },
  {
   "cell_type": "code",
   "execution_count": 27,
   "id": "50b7b192",
   "metadata": {},
   "outputs": [
    {
     "data": {
      "text/html": [
       "<div>\n",
       "<style scoped>\n",
       "    .dataframe tbody tr th:only-of-type {\n",
       "        vertical-align: middle;\n",
       "    }\n",
       "\n",
       "    .dataframe tbody tr th {\n",
       "        vertical-align: top;\n",
       "    }\n",
       "\n",
       "    .dataframe thead th {\n",
       "        text-align: right;\n",
       "    }\n",
       "</style>\n",
       "<table border=\"1\" class=\"dataframe\">\n",
       "  <thead>\n",
       "    <tr style=\"text-align: right;\">\n",
       "      <th></th>\n",
       "      <th>FICO</th>\n",
       "    </tr>\n",
       "    <tr>\n",
       "      <th>Category</th>\n",
       "      <th></th>\n",
       "    </tr>\n",
       "  </thead>\n",
       "  <tbody>\n",
       "    <tr>\n",
       "      <th>Excellent</th>\n",
       "      <td>36928</td>\n",
       "    </tr>\n",
       "    <tr>\n",
       "      <th>Very Good</th>\n",
       "      <td>18328</td>\n",
       "    </tr>\n",
       "    <tr>\n",
       "      <th>Good</th>\n",
       "      <td>10979</td>\n",
       "    </tr>\n",
       "    <tr>\n",
       "      <th>Fair</th>\n",
       "      <td>3398</td>\n",
       "    </tr>\n",
       "    <tr>\n",
       "      <th>Poor</th>\n",
       "      <td>753</td>\n",
       "    </tr>\n",
       "  </tbody>\n",
       "</table>\n",
       "</div>"
      ],
      "text/plain": [
       "            FICO\n",
       "Category        \n",
       "Excellent  36928\n",
       "Very Good  18328\n",
       "Good       10979\n",
       "Fair        3398\n",
       "Poor         753"
      ]
     },
     "execution_count": 27,
     "metadata": {},
     "output_type": "execute_result"
    }
   ],
   "source": [
    "# Grouping through Fico Score Categories (Count)\n",
    "\n",
    "table1 = new_fico_data.groupby(['Category']).count()[['FICO']].sort_values(by='FICO',ascending=False)\n",
    "table1"
   ]
  },
  {
   "cell_type": "code",
   "execution_count": 28,
   "id": "d7a408b2",
   "metadata": {},
   "outputs": [
    {
     "data": {
      "text/html": [
       "<div>\n",
       "<style scoped>\n",
       "    .dataframe tbody tr th:only-of-type {\n",
       "        vertical-align: middle;\n",
       "    }\n",
       "\n",
       "    .dataframe tbody tr th {\n",
       "        vertical-align: top;\n",
       "    }\n",
       "\n",
       "    .dataframe thead th {\n",
       "        text-align: right;\n",
       "    }\n",
       "</style>\n",
       "<table border=\"1\" class=\"dataframe\">\n",
       "  <thead>\n",
       "    <tr style=\"text-align: right;\">\n",
       "      <th></th>\n",
       "      <th>FICO</th>\n",
       "    </tr>\n",
       "    <tr>\n",
       "      <th>Category</th>\n",
       "      <th></th>\n",
       "    </tr>\n",
       "  </thead>\n",
       "  <tbody>\n",
       "    <tr>\n",
       "      <th>Excellent</th>\n",
       "      <td>52.464979</td>\n",
       "    </tr>\n",
       "    <tr>\n",
       "      <th>Very Good</th>\n",
       "      <td>26.039269</td>\n",
       "    </tr>\n",
       "    <tr>\n",
       "      <th>Good</th>\n",
       "      <td>15.598272</td>\n",
       "    </tr>\n",
       "    <tr>\n",
       "      <th>Fair</th>\n",
       "      <td>4.827665</td>\n",
       "    </tr>\n",
       "    <tr>\n",
       "      <th>Poor</th>\n",
       "      <td>1.069815</td>\n",
       "    </tr>\n",
       "  </tbody>\n",
       "</table>\n",
       "</div>"
      ],
      "text/plain": [
       "                FICO\n",
       "Category            \n",
       "Excellent  52.464979\n",
       "Very Good  26.039269\n",
       "Good       15.598272\n",
       "Fair        4.827665\n",
       "Poor        1.069815"
      ]
     },
     "execution_count": 28,
     "metadata": {},
     "output_type": "execute_result"
    }
   ],
   "source": [
    "# Percentages of Each Category\n",
    "\n",
    "table2 = new_fico_data.groupby(['Category']).count()[[\"FICO\"]].apply(lambda x: 100*x/x.sum())\n",
    "table2 = table2.sort_values(by='FICO',ascending=False) # Sorting Values\n",
    "table2\n"
   ]
  },
  {
   "cell_type": "code",
   "execution_count": 29,
   "id": "761c78f4",
   "metadata": {},
   "outputs": [
    {
     "data": {
      "text/html": [
       "<div>\n",
       "<style scoped>\n",
       "    .dataframe tbody tr th:only-of-type {\n",
       "        vertical-align: middle;\n",
       "    }\n",
       "\n",
       "    .dataframe tbody tr th {\n",
       "        vertical-align: top;\n",
       "    }\n",
       "\n",
       "    .dataframe thead th {\n",
       "        text-align: right;\n",
       "    }\n",
       "</style>\n",
       "<table border=\"1\" class=\"dataframe\">\n",
       "  <thead>\n",
       "    <tr style=\"text-align: right;\">\n",
       "      <th></th>\n",
       "      <th>Total Count</th>\n",
       "      <th>Percentage</th>\n",
       "    </tr>\n",
       "    <tr>\n",
       "      <th>Category</th>\n",
       "      <th></th>\n",
       "      <th></th>\n",
       "    </tr>\n",
       "  </thead>\n",
       "  <tbody>\n",
       "    <tr>\n",
       "      <th>Excellent</th>\n",
       "      <td>36928</td>\n",
       "      <td>52.464979</td>\n",
       "    </tr>\n",
       "    <tr>\n",
       "      <th>Very Good</th>\n",
       "      <td>18328</td>\n",
       "      <td>26.039269</td>\n",
       "    </tr>\n",
       "    <tr>\n",
       "      <th>Good</th>\n",
       "      <td>10979</td>\n",
       "      <td>15.598272</td>\n",
       "    </tr>\n",
       "    <tr>\n",
       "      <th>Fair</th>\n",
       "      <td>3398</td>\n",
       "      <td>4.827665</td>\n",
       "    </tr>\n",
       "    <tr>\n",
       "      <th>Poor</th>\n",
       "      <td>753</td>\n",
       "      <td>1.069815</td>\n",
       "    </tr>\n",
       "  </tbody>\n",
       "</table>\n",
       "</div>"
      ],
      "text/plain": [
       "           Total Count  Percentage\n",
       "Category                          \n",
       "Excellent        36928   52.464979\n",
       "Very Good        18328   26.039269\n",
       "Good             10979   15.598272\n",
       "Fair              3398    4.827665\n",
       "Poor               753    1.069815"
      ]
     },
     "execution_count": 29,
     "metadata": {},
     "output_type": "execute_result"
    }
   ],
   "source": [
    "# Count and Percantages Together\n",
    "\n",
    "final_table = table1.merge(table2, how='inner', left_on='Category', right_on='Category')\n",
    "final_table.columns = ['Total Count', 'Percentage'] # Renaming Columns\n",
    "final_table"
   ]
  },
  {
   "cell_type": "markdown",
   "id": "81a35d95",
   "metadata": {},
   "source": [
    "Task 1.3\n",
    "Do you notice anything particular about this distribution? Do you think this reflects what’s happening in the real world?\n",
    "\n"
   ]
  },
  {
   "cell_type": "code",
   "execution_count": 30,
   "id": "8eb383a5",
   "metadata": {},
   "outputs": [
    {
     "data": {
      "image/png": "[encoded data removed]",
      "text/plain": [
       "<Figure size 720x432 with 1 Axes>"
      ]
     },
     "metadata": {
      "needs_background": "light"
     },
     "output_type": "display_data"
    }
   ],
   "source": [
    "# Barplot for different categories\n",
    "# X = Category Names\n",
    "# Y = Category Percentages\n",
    "\n",
    "ax = sns.barplot(x=final_table.index, y=final_table['Percentage']);\n",
    "ax.set_title(\"FICO Group Distribution Plot\")\n",
    "ax.set_ylabel('Percentage')\n",
    "ax.set_xlabel('FICO Categories')\n",
    "plt.show()"
   ]
  },
  {
   "cell_type": "markdown",
   "id": "6afa29b0",
   "metadata": {},
   "source": [
    "Note : The graph seems completely opposite to the actual world value. Majority of people have low credit scores and a minority of people have very strong and excellent credit scores."
   ]
  },
  {
   "cell_type": "markdown",
   "id": "22a19e5d",
   "metadata": {},
   "source": [
    "# Task 1 Summary"
   ]
  },
  {
   "cell_type": "markdown",
   "id": "97247cc0",
   "metadata": {},
   "source": [
    "We pre-processed our dataset looking for any missing values, duplicates and error values.\n",
    "We found that 29615 values were missing in the FICO column which is approx. 29.61 % of all data.\n",
    "We found that there are 377 unique values in the FICO column and out of which we have three odd values - [nan,AA,SSS] .\n",
    "We checked for duplicate values and found 13 duplicate values in the dataset. We removed the duplicate values to clean our dataset.\n",
    "Finally we replaced all the missing nan values with our defined variable Missing.\n"
   ]
  },
  {
   "cell_type": "markdown",
   "id": "15e0ba14",
   "metadata": {},
   "source": [
    "I decided to go with the data and average group size given by Forbed as a FICO Chart.\n",
    "Excellent : 800 & above\n",
    "Very Good : 740-799\n",
    "Good : 670-739\n",
    "Fair : 580-669\n",
    "Poor : 300-579\n"
   ]
  },
  {
   "cell_type": "markdown",
   "id": "84e1dc3a",
   "metadata": {},
   "source": [
    "Link : https://www.forbes.com/advisor/credit-score/what-is-a-good-credit-score/\n",
    "The graph and values belonging to the custom groups we built are completely opposite to the actual world value."
   ]
  },
  {
   "cell_type": "code",
   "execution_count": null,
   "id": "6d84b04c",
   "metadata": {},
   "outputs": [],
   "source": []
  },
  {
   "cell_type": "markdown",
   "id": "980422d0",
   "metadata": {},
   "source": [
    "# Task 2"
   ]
  },
  {
   "cell_type": "markdown",
   "id": "7574cf68",
   "metadata": {},
   "source": [
    "Now that you have a clean dataset for FICO.\n",
    "\n",
    "2.1 : Create a temp table to store the information of FICO score and region for each customer. Make sure the customer id is the same for each record.\n",
    "2.2 : Display the regions which have the second highest and lowest average FICO score. The result of your query should display only two rows showing the region and its average FICO score.\n",
    "2.3 : Make sure you provide all the interim steps if needed in your final submission.\n"
   ]
  },
  {
   "cell_type": "code",
   "execution_count": 31,
   "id": "1020f6ba",
   "metadata": {},
   "outputs": [
    {
     "data": {
      "text/html": [
       "<div>\n",
       "<style scoped>\n",
       "    .dataframe tbody tr th:only-of-type {\n",
       "        vertical-align: middle;\n",
       "    }\n",
       "\n",
       "    .dataframe tbody tr th {\n",
       "        vertical-align: top;\n",
       "    }\n",
       "\n",
       "    .dataframe thead th {\n",
       "        text-align: right;\n",
       "    }\n",
       "</style>\n",
       "<table border=\"1\" class=\"dataframe\">\n",
       "  <thead>\n",
       "    <tr style=\"text-align: right;\">\n",
       "      <th></th>\n",
       "      <th>acct_id</th>\n",
       "      <th>region</th>\n",
       "    </tr>\n",
       "  </thead>\n",
       "  <tbody>\n",
       "    <tr>\n",
       "      <th>1155</th>\n",
       "      <td>1154</td>\n",
       "      <td>Los Angeles</td>\n",
       "    </tr>\n",
       "    <tr>\n",
       "      <th>41361</th>\n",
       "      <td>41274</td>\n",
       "      <td>Houston</td>\n",
       "    </tr>\n",
       "    <tr>\n",
       "      <th>1436</th>\n",
       "      <td>1435</td>\n",
       "      <td>San Diego</td>\n",
       "    </tr>\n",
       "    <tr>\n",
       "      <th>82722</th>\n",
       "      <td>82577</td>\n",
       "      <td>Charlotte</td>\n",
       "    </tr>\n",
       "    <tr>\n",
       "      <th>47157</th>\n",
       "      <td>47055</td>\n",
       "      <td>Phoenix</td>\n",
       "    </tr>\n",
       "  </tbody>\n",
       "</table>\n",
       "</div>"
      ],
      "text/plain": [
       "       acct_id       region\n",
       "1155      1154  Los Angeles\n",
       "41361    41274      Houston\n",
       "1436      1435    San Diego\n",
       "82722    82577    Charlotte\n",
       "47157    47055      Phoenix"
      ]
     },
     "execution_count": 31,
     "metadata": {},
     "output_type": "execute_result"
    }
   ],
   "source": [
    "# Load the region datatset\n",
    "\n",
    "region_data = pd.read_csv('Downloads/region.csv')\n",
    "region_data.sample(5)"
   ]
  },
  {
   "cell_type": "code",
   "execution_count": 32,
   "id": "0cca3ebd",
   "metadata": {},
   "outputs": [
    {
     "data": {
      "text/plain": [
       "acct_id    0\n",
       "region     0\n",
       "dtype: int64"
      ]
     },
     "execution_count": 32,
     "metadata": {},
     "output_type": "execute_result"
    }
   ],
   "source": [
    "# Check for any missing values\n",
    "\n",
    "region_data.isna().sum()"
   ]
  },
  {
   "cell_type": "code",
   "execution_count": 33,
   "id": "5d371842",
   "metadata": {},
   "outputs": [
    {
     "data": {
      "text/plain": [
       "acct_id    100000\n",
       "region         10\n",
       "dtype: int64"
      ]
     },
     "execution_count": 33,
     "metadata": {},
     "output_type": "execute_result"
    }
   ],
   "source": [
    "# Check for the Unique Values\n",
    "\n",
    "region_data.nunique()\n"
   ]
  },
  {
   "cell_type": "code",
   "execution_count": 34,
   "id": "7d5710c0",
   "metadata": {},
   "outputs": [
    {
     "data": {
      "text/plain": [
       "array(['New York', 'Dallas', 'Los Angeles', 'Chicago', 'Philadelphia',\n",
       "       'San Antonio', 'Houston', 'Charlotte', 'Phoenix', 'San Diego'],\n",
       "      dtype=object)"
      ]
     },
     "execution_count": 34,
     "metadata": {},
     "output_type": "execute_result"
    }
   ],
   "source": [
    "# What are those uniqe values ?\n",
    "\n",
    "region_data['region'].unique()\n"
   ]
  },
  {
   "cell_type": "markdown",
   "id": "7718d6fb",
   "metadata": {},
   "source": [
    "Task 2.1\n",
    "Create a temp table to store the information of FICO score and region for each customer. Make sure the customer id is the same for each record."
   ]
  },
  {
   "cell_type": "code",
   "execution_count": 35,
   "id": "e20cfa0a",
   "metadata": {},
   "outputs": [],
   "source": [
    "# Merge FICO data and Region data\n",
    "\n",
    "new_data = fico_data.merge(region_data, how='left', left_on='acct_id', right_on='acct_id')\n"
   ]
  },
  {
   "cell_type": "markdown",
   "id": "e68967a9",
   "metadata": {},
   "source": [
    "Note :\n",
    "\n",
    "We merged the region_data on fico_data with help of merge function.\n",
    "With how we decided what kind of Join Type for the merge, left_on and right_on helps to fix the common column to use.\n"
   ]
  },
  {
   "cell_type": "code",
   "execution_count": 36,
   "id": "d95f77cf",
   "metadata": {},
   "outputs": [
    {
     "data": {
      "text/html": [
       "<div>\n",
       "<style scoped>\n",
       "    .dataframe tbody tr th:only-of-type {\n",
       "        vertical-align: middle;\n",
       "    }\n",
       "\n",
       "    .dataframe tbody tr th {\n",
       "        vertical-align: top;\n",
       "    }\n",
       "\n",
       "    .dataframe thead th {\n",
       "        text-align: right;\n",
       "    }\n",
       "</style>\n",
       "<table border=\"1\" class=\"dataframe\">\n",
       "  <thead>\n",
       "    <tr style=\"text-align: right;\">\n",
       "      <th></th>\n",
       "      <th>acct_id</th>\n",
       "      <th>FICO</th>\n",
       "      <th>region</th>\n",
       "    </tr>\n",
       "  </thead>\n",
       "  <tbody>\n",
       "    <tr>\n",
       "      <th>73748</th>\n",
       "      <td>73609</td>\n",
       "      <td>836</td>\n",
       "      <td>Philadelphia</td>\n",
       "    </tr>\n",
       "    <tr>\n",
       "      <th>89705</th>\n",
       "      <td>89547</td>\n",
       "      <td>850</td>\n",
       "      <td>Houston</td>\n",
       "    </tr>\n",
       "    <tr>\n",
       "      <th>29860</th>\n",
       "      <td>29801</td>\n",
       "      <td>850</td>\n",
       "      <td>Charlotte</td>\n",
       "    </tr>\n",
       "    <tr>\n",
       "      <th>87655</th>\n",
       "      <td>87498</td>\n",
       "      <td>815</td>\n",
       "      <td>Phoenix</td>\n",
       "    </tr>\n",
       "    <tr>\n",
       "      <th>14960</th>\n",
       "      <td>14939</td>\n",
       "      <td>Missing</td>\n",
       "      <td>Dallas</td>\n",
       "    </tr>\n",
       "    <tr>\n",
       "      <th>46536</th>\n",
       "      <td>46434</td>\n",
       "      <td>843</td>\n",
       "      <td>Philadelphia</td>\n",
       "    </tr>\n",
       "    <tr>\n",
       "      <th>50227</th>\n",
       "      <td>50122</td>\n",
       "      <td>697</td>\n",
       "      <td>Houston</td>\n",
       "    </tr>\n",
       "    <tr>\n",
       "      <th>93608</th>\n",
       "      <td>93446</td>\n",
       "      <td>Missing</td>\n",
       "      <td>Philadelphia</td>\n",
       "    </tr>\n",
       "    <tr>\n",
       "      <th>91733</th>\n",
       "      <td>91571</td>\n",
       "      <td>836</td>\n",
       "      <td>New York</td>\n",
       "    </tr>\n",
       "    <tr>\n",
       "      <th>90114</th>\n",
       "      <td>89955</td>\n",
       "      <td>824</td>\n",
       "      <td>Dallas</td>\n",
       "    </tr>\n",
       "  </tbody>\n",
       "</table>\n",
       "</div>"
      ],
      "text/plain": [
       "       acct_id     FICO        region\n",
       "73748    73609      836  Philadelphia\n",
       "89705    89547      850       Houston\n",
       "29860    29801      850     Charlotte\n",
       "87655    87498      815       Phoenix\n",
       "14960    14939  Missing        Dallas\n",
       "46536    46434      843  Philadelphia\n",
       "50227    50122      697       Houston\n",
       "93608    93446  Missing  Philadelphia\n",
       "91733    91571      836      New York\n",
       "90114    89955      824        Dallas"
      ]
     },
     "execution_count": 36,
     "metadata": {},
     "output_type": "execute_result"
    }
   ],
   "source": [
    "# Cross Verfiy our New Dataset\n",
    "\n",
    "new_data.sample(10)"
   ]
  },
  {
   "cell_type": "markdown",
   "id": "1e3a23e5",
   "metadata": {},
   "source": [
    "Task 2.2\n",
    "Display the regions which have the second highest and lowest average FICO score. The result of your query should display only two rows showing the region and its average FICO score.\n",
    "\n"
   ]
  },
  {
   "cell_type": "code",
   "execution_count": 37,
   "id": "40a49d18",
   "metadata": {},
   "outputs": [
    {
     "name": "stdout",
     "output_type": "stream",
     "text": [
      "<class 'pandas.core.frame.DataFrame'>\n",
      "Int64Index: 100173 entries, 0 to 100172\n",
      "Data columns (total 3 columns):\n",
      " #   Column   Non-Null Count   Dtype \n",
      "---  ------   --------------   ----- \n",
      " 0   acct_id  100173 non-null  int64 \n",
      " 1   FICO     100173 non-null  object\n",
      " 2   region   100173 non-null  object\n",
      "dtypes: int64(1), object(2)\n",
      "memory usage: 2.3+ MB\n"
     ]
    }
   ],
   "source": [
    "# Basic information about new dataset\n",
    "\n",
    "new_data.info()"
   ]
  },
  {
   "cell_type": "code",
   "execution_count": 38,
   "id": "0d0100ba",
   "metadata": {},
   "outputs": [
    {
     "name": "stdout",
     "output_type": "stream",
     "text": [
      "<class 'pandas.core.frame.DataFrame'>\n",
      "Int64Index: 70559 entries, 0 to 100164\n",
      "Data columns (total 3 columns):\n",
      " #   Column   Non-Null Count  Dtype \n",
      "---  ------   --------------  ----- \n",
      " 0   acct_id  70559 non-null  int64 \n",
      " 1   FICO     70559 non-null  int64 \n",
      " 2   region   70559 non-null  object\n",
      "dtypes: int64(2), object(1)\n",
      "memory usage: 1.9+ MB\n"
     ]
    },
    {
     "name": "stderr",
     "output_type": "stream",
     "text": [
      "<ipython-input-38-39a6fed479d1>:7: SettingWithCopyWarning: \n",
      "A value is trying to be set on a copy of a slice from a DataFrame.\n",
      "Try using .loc[row_indexer,col_indexer] = value instead\n",
      "\n",
      "See the caveats in the documentation: https://pandas.pydata.org/pandas-docs/stable/user_guide/indexing.html#returning-a-view-versus-a-copy\n",
      "  edited_data['FICO'] = pd.to_numeric(edited_data['FICO'])\n"
     ]
    }
   ],
   "source": [
    "### Formatting and Pre-Processing Merged Data\n",
    "\n",
    "# Remove the Non Numerical Values\n",
    "edited_data = new_data[~new_data['FICO'].isin(['AA','SSS','Missing'])]\n",
    "\n",
    "# Convert dtype from `object ` to `integer`\n",
    "edited_data['FICO'] = pd.to_numeric(edited_data['FICO'])\n",
    "\n",
    "# Cross Verify the Transformed Data\n",
    "edited_data.info()\n"
   ]
  },
  {
   "cell_type": "code",
   "execution_count": 39,
   "id": "2dc6851e",
   "metadata": {},
   "outputs": [
    {
     "data": {
      "text/html": [
       "<div>\n",
       "<style scoped>\n",
       "    .dataframe tbody tr th:only-of-type {\n",
       "        vertical-align: middle;\n",
       "    }\n",
       "\n",
       "    .dataframe tbody tr th {\n",
       "        vertical-align: top;\n",
       "    }\n",
       "\n",
       "    .dataframe thead th {\n",
       "        text-align: right;\n",
       "    }\n",
       "</style>\n",
       "<table border=\"1\" class=\"dataframe\">\n",
       "  <thead>\n",
       "    <tr style=\"text-align: right;\">\n",
       "      <th></th>\n",
       "      <th>Average FICO Score</th>\n",
       "    </tr>\n",
       "    <tr>\n",
       "      <th>region</th>\n",
       "      <th></th>\n",
       "    </tr>\n",
       "  </thead>\n",
       "  <tbody>\n",
       "    <tr>\n",
       "      <th>Phoenix</th>\n",
       "      <td>788.170231</td>\n",
       "    </tr>\n",
       "    <tr>\n",
       "      <th>Houston</th>\n",
       "      <td>786.005803</td>\n",
       "    </tr>\n",
       "    <tr>\n",
       "      <th>Philadelphia</th>\n",
       "      <td>785.773845</td>\n",
       "    </tr>\n",
       "    <tr>\n",
       "      <th>Los Angeles</th>\n",
       "      <td>785.689233</td>\n",
       "    </tr>\n",
       "    <tr>\n",
       "      <th>Chicago</th>\n",
       "      <td>785.643043</td>\n",
       "    </tr>\n",
       "    <tr>\n",
       "      <th>Charlotte</th>\n",
       "      <td>785.154280</td>\n",
       "    </tr>\n",
       "    <tr>\n",
       "      <th>New York</th>\n",
       "      <td>785.065903</td>\n",
       "    </tr>\n",
       "    <tr>\n",
       "      <th>San Antonio</th>\n",
       "      <td>784.508277</td>\n",
       "    </tr>\n",
       "    <tr>\n",
       "      <th>San Diego</th>\n",
       "      <td>784.076447</td>\n",
       "    </tr>\n",
       "    <tr>\n",
       "      <th>Dallas</th>\n",
       "      <td>782.102021</td>\n",
       "    </tr>\n",
       "  </tbody>\n",
       "</table>\n",
       "</div>"
      ],
      "text/plain": [
       "              Average FICO Score\n",
       "region                          \n",
       "Phoenix               788.170231\n",
       "Houston               786.005803\n",
       "Philadelphia          785.773845\n",
       "Los Angeles           785.689233\n",
       "Chicago               785.643043\n",
       "Charlotte             785.154280\n",
       "New York              785.065903\n",
       "San Antonio           784.508277\n",
       "San Diego             784.076447\n",
       "Dallas                782.102021"
      ]
     },
     "execution_count": 39,
     "metadata": {},
     "output_type": "execute_result"
    }
   ],
   "source": [
    "# Grouping regions with Average FICO Socres\n",
    "\n",
    "grouped_data = edited_data.groupby(['region']).mean()[['FICO']].sort_values(by='FICO',ascending=False)\n",
    "grouped_data.columns = ['Average FICO Score'] #Renamingg Column\n",
    "grouped_data # Descending Sorted Dataframe with Average FICO Scores\n"
   ]
  },
  {
   "cell_type": "code",
   "execution_count": 40,
   "id": "6c9a0861",
   "metadata": {},
   "outputs": [
    {
     "data": {
      "text/html": [
       "<div>\n",
       "<style scoped>\n",
       "    .dataframe tbody tr th:only-of-type {\n",
       "        vertical-align: middle;\n",
       "    }\n",
       "\n",
       "    .dataframe tbody tr th {\n",
       "        vertical-align: top;\n",
       "    }\n",
       "\n",
       "    .dataframe thead th {\n",
       "        text-align: right;\n",
       "    }\n",
       "</style>\n",
       "<table border=\"1\" class=\"dataframe\">\n",
       "  <thead>\n",
       "    <tr style=\"text-align: right;\">\n",
       "      <th></th>\n",
       "      <th>Average FICO Score</th>\n",
       "    </tr>\n",
       "    <tr>\n",
       "      <th>region</th>\n",
       "      <th></th>\n",
       "    </tr>\n",
       "  </thead>\n",
       "  <tbody>\n",
       "    <tr>\n",
       "      <th>Houston</th>\n",
       "      <td>786.005803</td>\n",
       "    </tr>\n",
       "    <tr>\n",
       "      <th>Dallas</th>\n",
       "      <td>782.102021</td>\n",
       "    </tr>\n",
       "  </tbody>\n",
       "</table>\n",
       "</div>"
      ],
      "text/plain": [
       "         Average FICO Score\n",
       "region                     \n",
       "Houston          786.005803\n",
       "Dallas           782.102021"
      ]
     },
     "execution_count": 40,
     "metadata": {},
     "output_type": "execute_result"
    }
   ],
   "source": [
    "# To Show only second highest and lowest average FICO score\n",
    "\n",
    "grouped_data.iloc[[1,-1],:] # Slciling Dataframe Data with `iloc` function"
   ]
  },
  {
   "cell_type": "markdown",
   "id": "2ee9f9e7",
   "metadata": {},
   "source": [
    "# Task 2 : Summary"
   ]
  },
  {
   "cell_type": "markdown",
   "id": "ba732e25",
   "metadata": {},
   "source": [
    "First we explored the FICO and region dataset for any missing or error values. Then we merged both the dataset with help of pandas.merge function."
   ]
  },
  {
   "cell_type": "markdown",
   "id": "0f51a71c",
   "metadata": {},
   "source": [
    "We had to clean and trasnfrom the merged dataset for further use.\n",
    "Finally we categorise the average FICO score with help of groupby function.\n",
    "Second Highest : Houston - 786.00\n",
    "Lowest : Dallas - 782.10"
   ]
  },
  {
   "cell_type": "markdown",
   "id": "67139042",
   "metadata": {},
   "source": [
    "# Task 3"
   ]
  },
  {
   "cell_type": "markdown",
   "id": "67210a16",
   "metadata": {},
   "source": [
    "How many Red coloured top Honda SUV cars do you think will be sold in India in 2022?"
   ]
  },
  {
   "cell_type": "markdown",
   "id": "78df8bc4",
   "metadata": {},
   "source": [
    "Questions to consider:\n",
    "\n",
    "I : What factors do you think will impact sales? You may google about guesstimate questions to answer this question better.\n",
    "II : Assume you have all the data you need, what statistical methodology or algorithm will you use to make this sales forecast? Please give a brief explanation of why you choose this model.\n"
   ]
  },
  {
   "cell_type": "markdown",
   "id": "ca0ad40d",
   "metadata": {},
   "source": [
    "III : How would you evaluate your model or determine its accuracy?"
   ]
  },
  {
   "cell_type": "markdown",
   "id": "177dc2d1",
   "metadata": {},
   "source": [
    "Pre-Requisite\n"
   ]
  },
  {
   "cell_type": "markdown",
   "id": "206db272",
   "metadata": {},
   "source": [
    "Given :\n",
    "\n",
    "Company : Honda\n",
    "Car Type : Top SUV\n",
    "Colour : Red\n",
    "We are assuming domestic sales only."
   ]
  },
  {
   "cell_type": "markdown",
   "id": "b0975f08",
   "metadata": {},
   "source": [
    "Assumption :\n",
    "\n",
    "Population of India : 140 Crore\n",
    "Average Family Size : 4 People"
   ]
  },
  {
   "cell_type": "markdown",
   "id": "5c02e7da",
   "metadata": {},
   "source": [
    "Tier Share Percentage :\n",
    "1.Metro/Tier I : 20%\n",
    "2.Tier II/Tier III : 20%\n",
    "3.Rural/Villages : 60%\n"
   ]
  },
  {
   "cell_type": "markdown",
   "id": "c52dc5e5",
   "metadata": {},
   "source": [
    "Class Percentage Ratio in Each Tier :\n",
    "1.Metro/Tier I : [Poor Class : 20% , Middle Class : 60% , Upper Class : 20% ]\n",
    "2.Tier II/Tier III : [Poor Class : 40% , Middle Class :50% , Upper Class : 10% ]\n",
    "3.Rural/Villages : [Poor Class : 60% , Middle Class :35% , Upper Class : 5% ]"
   ]
  },
  {
   "cell_type": "markdown",
   "id": "6f4636d5",
   "metadata": {},
   "source": [
    "Car Market Penetration :\n",
    "1.Metro/Tier I : [Poor Class :00% , Middle Class :50% , Upper Class : 200% ]\n",
    "2.Tier II/Tier III : [Poor Class :00% , Middle Class :25% , Upper Class : 100% ]\n",
    "3.Rural/Villages : [Poor Class :00% , Middle Class :5% , Upper Class : 50% ]\n"
   ]
  },
  {
   "cell_type": "markdown",
   "id": "22561377",
   "metadata": {},
   "source": [
    "# Car Type Distribution : [Hatchback :50% , Sedan :25% , SUV/MUV : 25% ]\n"
   ]
  },
  {
   "cell_type": "markdown",
   "id": "5b049e5f",
   "metadata": {},
   "source": [
    "Car Colour Distribution :\n",
    "1.Major Colour : 75% [Black,White,Grey,Silver]\n",
    "2.Minor Colour : 25% [Red,Orange,Blue,Maroon,Others]\n"
   ]
  },
  {
   "cell_type": "markdown",
   "id": "12c5b998",
   "metadata": {},
   "source": [
    "1.We can assume the growth rate is 5%.\n",
    "2.We can assume the average Car Life is of 20 years.\n",
    "3.We can assumne Top SUV will be of 5% of 25% of SUV/MUV\n",
    "4.We can assume Honda Brand Percentage in Market is close to 10% out of 100%.\n",
    "5.We can assume 1/5th of total Minor Colour cars are Red."
   ]
  },
  {
   "cell_type": "markdown",
   "id": "854d6b4d",
   "metadata": {},
   "source": [
    "Part 1 : Calculation of Total Cars Currently Present in 2022"
   ]
  },
  {
   "cell_type": "markdown",
   "id": "39c063ef",
   "metadata": {},
   "source": [
    "Total House Hold = Population of India / Average Family Size"
   ]
  },
  {
   "cell_type": "markdown",
   "id": "b2ae8fdf",
   "metadata": {},
   "source": [
    "Total House Hold = 140 Crore / 4,\n",
    "Total House Hold = 35 Crore"
   ]
  },
  {
   "cell_type": "markdown",
   "id": "1d705ce2",
   "metadata": {},
   "source": [
    "Sum of Penetration = Class Penetration Percentage x Class Tier Percentage + ....."
   ]
  },
  {
   "cell_type": "markdown",
   "id": "839e8f1d",
   "metadata": {},
   "source": [
    "1.Sum of Penetration (Metro/Tier I) = 0.0x0.2 + 0.5x0.6 + 2.0x2 = 0.70,\n",
    "2.Sum of Penetration (Tier II/Tier III) = 0.0x0.4 + 0.25x0.5 + 1.0x0.1 = 0.23,\n",
    "3.Sum of Penetration (Rural/Villages) = 0.0x0.6 + 0.05x0.35 + 0.5x0.05 = 0.04"
   ]
  },
  {
   "cell_type": "markdown",
   "id": "5af81d58",
   "metadata": {},
   "source": [
    "House Hold Count = Tier Percentage * Total House Hold"
   ]
  },
  {
   "cell_type": "markdown",
   "id": "521a01a5",
   "metadata": {},
   "source": [
    "1.Total House Hold (Metro/Tier I) = 0.2x35 = 7 Crore,\n",
    "2.Total House Hold (Tier II/Tier III) = 0.2x35 = 7 Crore,\n",
    "3.Total House Hold (Rural/Villages) = 0.6x35 = 21 Crore"
   ]
  },
  {
   "cell_type": "markdown",
   "id": "02d6fa03",
   "metadata": {},
   "source": [
    "Total Cars = Sum of Penetration * No of households in each segment\n",
    "\n"
   ]
  },
  {
   "cell_type": "markdown",
   "id": "86603bdc",
   "metadata": {},
   "source": [
    " Total Available = 0.7x7 + 0.23x7 + 0.04x21 = 7.8 Crore"
   ]
  },
  {
   "cell_type": "markdown",
   "id": "c0eac128",
   "metadata": {},
   "source": [
    "# Part2 : Calculation of Top Red Honda SUV sold in 2022"
   ]
  },
  {
   "cell_type": "markdown",
   "id": "dddeab10",
   "metadata": {},
   "source": [
    "As the question asks the number of top red honda car sold in 2022, that is essentially current year, we have to look at the reasons of purchase:"
   ]
  },
  {
   "cell_type": "markdown",
   "id": "a886eaef",
   "metadata": {},
   "source": [
    "People buying cars due to replacement (as their old car is not working, is lost or stolen or any else reason),People buying cars as their first car\n"
   ]
  },
  {
   "cell_type": "markdown",
   "id": "c18e573a",
   "metadata": {},
   "source": [
    "Cars to sell in current year = New cars due to replacement + New Demand due to growth\n",
    "\n"
   ]
  },
  {
   "cell_type": "markdown",
   "id": "9baaeb60",
   "metadata": {},
   "source": [
    "Growth rate = 5 Percent,Average Car Life = 20 years\n"
   ]
  },
  {
   "cell_type": "markdown",
   "id": "a5c38dc3",
   "metadata": {},
   "source": [
    "Cars to sell = (Total Cars at Present / Average Life) + (Growth rate * Total Cars at Present)\n",
    "\n"
   ]
  },
  {
   "cell_type": "markdown",
   "id": "26ff1fc5",
   "metadata": {},
   "source": [
    "Total Sell = (7.8/20) + (0.05x7.8) = 0.39 + 0.39 = 0.78 (approx 0.8 Crore)\n"
   ]
  },
  {
   "cell_type": "markdown",
   "id": "e706661e",
   "metadata": {},
   "source": [
    "Honda Car Share = Market Share Percentage x Cars To Sold\n",
    "\n"
   ]
  },
  {
   "cell_type": "markdown",
   "id": "de6c1043",
   "metadata": {},
   "source": [
    " Total Honda Cars = 0.1x0.8 = 0.08 Crore\n"
   ]
  },
  {
   "cell_type": "markdown",
   "id": "879b5011",
   "metadata": {},
   "source": [
    "Top Honda SUV Share = Top SUV Percentage x Total Honda Cars\n",
    "\n"
   ]
  },
  {
   "cell_type": "markdown",
   "id": "d2f3c708",
   "metadata": {},
   "source": [
    "Top Honda SUV Cars = 0.05x0.08 = 0.004 Crore or 0.4 Lakhs\n"
   ]
  },
  {
   "cell_type": "markdown",
   "id": "3b2700e8",
   "metadata": {},
   "source": [
    "Red Honda Share = Top Honda SUV Cars x Minor Percentage x 1/5th"
   ]
  },
  {
   "cell_type": "markdown",
   "id": "4922bee8",
   "metadata": {},
   "source": [
    "Top Red Honda SUV Cars = 0.4x0.25x0.2 = 0.02 Lakhs or 2 Thousand"
   ]
  },
  {
   "cell_type": "markdown",
   "id": "37bbfb94",
   "metadata": {},
   "source": [
    "# Summary : Total Top Red Honda SUV to be sold in 2022 = Approx 2000 Units\n"
   ]
  },
  {
   "cell_type": "markdown",
   "id": "062d2c12",
   "metadata": {},
   "source": [
    "# Task 3.1"
   ]
  },
  {
   "cell_type": "markdown",
   "id": "5ea07239",
   "metadata": {},
   "source": [
    "What factors do you think will impact sales?\n",
    "\n"
   ]
  },
  {
   "cell_type": "markdown",
   "id": "a795ab21",
   "metadata": {},
   "source": [
    "1.Economic Factors:-"
   ]
  },
  {
   "cell_type": "markdown",
   "id": "7b9dd584",
   "metadata": {},
   "source": [
    "Economic Conditions,\n",
    "Gasoline Prices,\n",
    "Interest Rates,\n",
    "Inflation Rates"
   ]
  },
  {
   "cell_type": "markdown",
   "id": "bffb1f28",
   "metadata": {},
   "source": [
    "2.Technological Factors:-\n"
   ]
  },
  {
   "cell_type": "markdown",
   "id": "ce67ea03",
   "metadata": {},
   "source": [
    "Technological Change,\n",
    "Environment Aspects,\n",
    "Automation Features"
   ]
  },
  {
   "cell_type": "markdown",
   "id": "e5e292f1",
   "metadata": {},
   "source": [
    "3.Social Factors:-"
   ]
  },
  {
   "cell_type": "markdown",
   "id": "ef2bf2cb",
   "metadata": {},
   "source": [
    "Pandemic Situation,\n",
    "Demographic Shifts,\n",
    "Social Trends\n"
   ]
  },
  {
   "cell_type": "markdown",
   "id": "bc7e78d6",
   "metadata": {},
   "source": [
    "# Task 3.2\n"
   ]
  },
  {
   "cell_type": "markdown",
   "id": "c2e0876a",
   "metadata": {},
   "source": [
    "Assume you have all the data you need, what statistical methodology or algorithm will you use to make this sales forecast? Please give a brief explanation of why you choose this model.\n",
    "\n"
   ]
  },
  {
   "cell_type": "markdown",
   "id": "2481dab3",
   "metadata": {},
   "source": [
    "If we have all the required data available to us we can do sales forecasting via simple ML algorithms like Linear Regression or Random Forest Regression. If the data is more complex and we need a more sophisticated solution, we can go for advanced ML algorithms like XGBoost or Neural Networks."
   ]
  },
  {
   "cell_type": "markdown",
   "id": "c234b62c",
   "metadata": {},
   "source": [
    "Linear Regression : Sales Forecasting comes under regression analysis where we are trying to predict the numerical variable of sales with our given data. Simple Linear Regression works at the heart of every regression problem and its the same formula for all. As ML tasks are trial and error, we can try Simple Linear Regression to check our prediction and error rate and if it works here, there's no need to apply more complex algorithms as they'll be more power consuming and hard to implement.\n",
    "\n"
   ]
  },
  {
   "cell_type": "markdown",
   "id": "d2bc9369",
   "metadata": {},
   "source": [
    "Random Forest Regression : Random Forest Regression is based on Linear Regression only but adds the power and input of ensemble learning methods for regression. It constructs several decision trees during training time and outputs the mean of the classes as the prediction of all the trees. This way we have a more accurate ensemble method to minimise the errors. With sklearn both are easy to implement and very efficient to work on.\n",
    "\n"
   ]
  },
  {
   "cell_type": "markdown",
   "id": "6e192e14",
   "metadata": {},
   "source": [
    "If neither of these methods offers us a good model for our forecast, we can try to divide the forecasting into smaller problems and try to solve it with individual ML algorithms to get more accuracy in our score. Otherwise we can opt for Neural Network or any advanced methods like XGBoost, Catboost to work on."
   ]
  },
  {
   "cell_type": "markdown",
   "id": "ccf2014f",
   "metadata": {},
   "source": [
    "# Task 3.3"
   ]
  },
  {
   "cell_type": "markdown",
   "id": "0b9f1743",
   "metadata": {},
   "source": [
    "How would you evaluate your model or determine its accuracy?"
   ]
  },
  {
   "cell_type": "markdown",
   "id": "3c168531",
   "metadata": {},
   "source": [
    "Note : We cannot calculate accuracy for Regression Models as it's only for Classification Models. What we can measure here is the error rate and how can we minimise the error value we are getting."
   ]
  },
  {
   "cell_type": "markdown",
   "id": "9b335d09",
   "metadata": {},
   "source": [
    "We cannot calculate accuracy for Regression Models as it's only for Classification Models. What we can measure here is the error rate and how we can minimise the error value we are getting."
   ]
  },
  {
   "cell_type": "markdown",
   "id": "46e3fb6a",
   "metadata": {},
   "source": [
    "The three major error predictors are:\n",
    "\n"
   ]
  },
  {
   "cell_type": "markdown",
   "id": "06eaf879",
   "metadata": {},
   "source": [
    "Mean Absolute Error : MAE is the average value of error in a set of predicted values, without considering direction. Although the value ranges from 0 to inf. But we try to lower the value, lower score in this is the better model.\n"
   ]
  },
  {
   "cell_type": "markdown",
   "id": "eaf8c73a",
   "metadata": {},
   "source": [
    "Root Mean Squared Error : RMSE is the square root of average value of squared error in a set of predicted values, without considering direction. Here also the value ranges from 0 to inf. and lower means better model. Here the error values are always greater in magnitude than MAE."
   ]
  },
  {
   "cell_type": "markdown",
   "id": "641455b6",
   "metadata": {},
   "source": [
    "R Square Metrics : It is called the coefficient of determination which is the ratio of the variance in the dependent variable that is predictable from the independent variables. The adjusted R square lies between 0 to 1, but can be negative too. Close to zero means the model is not following any pattern from the given data.\n"
   ]
  },
  {
   "cell_type": "markdown",
   "id": "afac1f7c",
   "metadata": {},
   "source": [
    "There are other options as well like Mean Absolute Percentage Error or Mean Absolute Log Error accompanied with Square Root or not. But it all depends on the metrics we set before starting our project and is measured on that alone only.\n",
    "\n"
   ]
  },
  {
   "cell_type": "markdown",
   "id": "208cfa85",
   "metadata": {},
   "source": [
    "# Task 4."
   ]
  },
  {
   "cell_type": "markdown",
   "id": "53d4f5ce",
   "metadata": {},
   "source": [
    "Write a function in Python/R.\n",
    "\n"
   ]
  },
  {
   "cell_type": "markdown",
   "id": "e0d9c71a",
   "metadata": {},
   "source": [
    "a : To get the output that looks like the below image."
   ]
  },
  {
   "cell_type": "markdown",
   "id": "582eeadb",
   "metadata": {},
   "source": [
    "b : x1 in the image could be read as Unique count of visitors of Level 2 / Unique count of visitors of Level 1."
   ]
  },
  {
   "cell_type": "markdown",
   "id": "4454d560",
   "metadata": {},
   "source": [
    "c : The function should take the rows (in this case Traffic source) as an argument i.e., we should be able to provide “devc_name” or “browser_type” as an argument to get the same table.\n"
   ]
  },
  {
   "cell_type": "code",
   "execution_count": 43,
   "id": "362d75c1",
   "metadata": {},
   "outputs": [],
   "source": [
    "# Load the Fittlyf Dataset\n",
    "\n",
    "fyttlyf_data = pd.read_excel('Downloads/Fyttlyf_Website_Data.xlsx')"
   ]
  },
  {
   "cell_type": "code",
   "execution_count": 44,
   "id": "49b76cd6",
   "metadata": {},
   "outputs": [
    {
     "data": {
      "text/html": [
       "<div>\n",
       "<style scoped>\n",
       "    .dataframe tbody tr th:only-of-type {\n",
       "        vertical-align: middle;\n",
       "    }\n",
       "\n",
       "    .dataframe tbody tr th {\n",
       "        vertical-align: top;\n",
       "    }\n",
       "\n",
       "    .dataframe thead th {\n",
       "        text-align: right;\n",
       "    }\n",
       "</style>\n",
       "<table border=\"1\" class=\"dataframe\">\n",
       "  <thead>\n",
       "    <tr style=\"text-align: right;\">\n",
       "      <th></th>\n",
       "      <th>evnt_dt</th>\n",
       "      <th>Event</th>\n",
       "      <th>geo_cntry</th>\n",
       "      <th>sessn_id</th>\n",
       "      <th>visitor_id</th>\n",
       "      <th>payload</th>\n",
       "      <th>page_name</th>\n",
       "      <th>devc_name</th>\n",
       "      <th>browser_type</th>\n",
       "      <th>traffic_source</th>\n",
       "      <th>Level 1</th>\n",
       "      <th>Level 2</th>\n",
       "      <th>Level 3</th>\n",
       "      <th>Level 4</th>\n",
       "      <th>Level 5</th>\n",
       "    </tr>\n",
       "  </thead>\n",
       "  <tbody>\n",
       "    <tr>\n",
       "      <th>0</th>\n",
       "      <td>2021-02-02</td>\n",
       "      <td>Impression</td>\n",
       "      <td>France</td>\n",
       "      <td>zxio1f62e501790ad045c35zxioczxio4fcfd9e0c</td>\n",
       "      <td>gc1f62e501790gcd045c35gccgc4fcfd9e0d</td>\n",
       "      <td>isp_mozioxile_ckijrrier=Deutsche Telekom kijG&amp;...</td>\n",
       "      <td>Home Page</td>\n",
       "      <td>Generic Web Browser</td>\n",
       "      <td>Safari</td>\n",
       "      <td>cspreportnodeweb</td>\n",
       "      <td>1.0</td>\n",
       "      <td>0.0</td>\n",
       "      <td>0.0</td>\n",
       "      <td>0.0</td>\n",
       "      <td>0.0</td>\n",
       "    </tr>\n",
       "    <tr>\n",
       "      <th>1</th>\n",
       "      <td>2021-02-02</td>\n",
       "      <td>Impression</td>\n",
       "      <td>France</td>\n",
       "      <td>zxio5zxiod19131790a1d2d7azxio4582fczxio57a97</td>\n",
       "      <td>gc5gcd19131790gc1d2d7gcgc4582fcgc57gc98</td>\n",
       "      <td>isp_mozioxile_ckijrrier=O2 Deutschlkijnd&amp;sessi...</td>\n",
       "      <td>Home Page</td>\n",
       "      <td>Generic Web Browser</td>\n",
       "      <td>Firefox</td>\n",
       "      <td>mppnodeweb</td>\n",
       "      <td>1.0</td>\n",
       "      <td>0.0</td>\n",
       "      <td>0.0</td>\n",
       "      <td>0.0</td>\n",
       "      <td>0.0</td>\n",
       "    </tr>\n",
       "    <tr>\n",
       "      <th>2</th>\n",
       "      <td>2021-02-02</td>\n",
       "      <td>Click</td>\n",
       "      <td>France</td>\n",
       "      <td>zxio42443001790ad0060551a73fcd9066e</td>\n",
       "      <td>3004cgc811770gcd0059ff44fcffdgc0gc27</td>\n",
       "      <td>isp_mozioxile_ckijrrier=PlusServer GmzioxH&amp;ses...</td>\n",
       "      <td>Home Page</td>\n",
       "      <td>Motorola</td>\n",
       "      <td>Chrome Mobile</td>\n",
       "      <td>authchallengenodeweb</td>\n",
       "      <td>0.0</td>\n",
       "      <td>0.0</td>\n",
       "      <td>0.0</td>\n",
       "      <td>0.0</td>\n",
       "      <td>0.0</td>\n",
       "    </tr>\n",
       "    <tr>\n",
       "      <th>3</th>\n",
       "      <td>2021-02-02</td>\n",
       "      <td>Impression</td>\n",
       "      <td>France</td>\n",
       "      <td>zxio49fzxio3f31790ad04624f20adfcd025a0</td>\n",
       "      <td>gc463dcf41790gcd045gc51270efcd938d7</td>\n",
       "      <td>isp_mozioxile_ckijrrier=Vodkijfone Kkijzioxel ...</td>\n",
       "      <td>Home Page</td>\n",
       "      <td>Apple iPhone (iPhone 6 Plus)</td>\n",
       "      <td>Safari</td>\n",
       "      <td>mppnodeweb</td>\n",
       "      <td>1.0</td>\n",
       "      <td>0.0</td>\n",
       "      <td>0.0</td>\n",
       "      <td>0.0</td>\n",
       "      <td>0.0</td>\n",
       "    </tr>\n",
       "    <tr>\n",
       "      <th>4</th>\n",
       "      <td>2021-02-02</td>\n",
       "      <td>Impression</td>\n",
       "      <td>France</td>\n",
       "      <td>zxio623401e1790a2758zxiodzxio164afczxio26736</td>\n",
       "      <td>gc623401e1790gc2758gcdgc164gcfcgc26737</td>\n",
       "      <td>isp_mozioxile_ckijrrier=kijmkijzon.com&amp;session...</td>\n",
       "      <td>Home Page</td>\n",
       "      <td>Generic Web Browser</td>\n",
       "      <td>Chrome</td>\n",
       "      <td>mppnodeweb</td>\n",
       "      <td>1.0</td>\n",
       "      <td>0.0</td>\n",
       "      <td>0.0</td>\n",
       "      <td>0.0</td>\n",
       "      <td>0.0</td>\n",
       "    </tr>\n",
       "  </tbody>\n",
       "</table>\n",
       "</div>"
      ],
      "text/plain": [
       "     evnt_dt       Event geo_cntry  \\\n",
       "0 2021-02-02  Impression    France   \n",
       "1 2021-02-02  Impression    France   \n",
       "2 2021-02-02       Click    France   \n",
       "3 2021-02-02  Impression    France   \n",
       "4 2021-02-02  Impression    France   \n",
       "\n",
       "                                       sessn_id  \\\n",
       "0     zxio1f62e501790ad045c35zxioczxio4fcfd9e0c   \n",
       "1  zxio5zxiod19131790a1d2d7azxio4582fczxio57a97   \n",
       "2           zxio42443001790ad0060551a73fcd9066e   \n",
       "3        zxio49fzxio3f31790ad04624f20adfcd025a0   \n",
       "4  zxio623401e1790a2758zxiodzxio164afczxio26736   \n",
       "\n",
       "                                visitor_id  \\\n",
       "0     gc1f62e501790gcd045c35gccgc4fcfd9e0d   \n",
       "1  gc5gcd19131790gc1d2d7gcgc4582fcgc57gc98   \n",
       "2     3004cgc811770gcd0059ff44fcffdgc0gc27   \n",
       "3      gc463dcf41790gcd045gc51270efcd938d7   \n",
       "4   gc623401e1790gc2758gcdgc164gcfcgc26737   \n",
       "\n",
       "                                             payload  page_name  \\\n",
       "0  isp_mozioxile_ckijrrier=Deutsche Telekom kijG&...  Home Page   \n",
       "1  isp_mozioxile_ckijrrier=O2 Deutschlkijnd&sessi...  Home Page   \n",
       "2  isp_mozioxile_ckijrrier=PlusServer GmzioxH&ses...  Home Page   \n",
       "3  isp_mozioxile_ckijrrier=Vodkijfone Kkijzioxel ...  Home Page   \n",
       "4  isp_mozioxile_ckijrrier=kijmkijzon.com&session...  Home Page   \n",
       "\n",
       "                      devc_name   browser_type        traffic_source  Level 1  \\\n",
       "0           Generic Web Browser         Safari      cspreportnodeweb      1.0   \n",
       "1           Generic Web Browser        Firefox            mppnodeweb      1.0   \n",
       "2                      Motorola  Chrome Mobile  authchallengenodeweb      0.0   \n",
       "3  Apple iPhone (iPhone 6 Plus)         Safari            mppnodeweb      1.0   \n",
       "4           Generic Web Browser         Chrome            mppnodeweb      1.0   \n",
       "\n",
       "   Level 2   Level 3  Level 4   Level 5   \n",
       "0       0.0      0.0       0.0       0.0  \n",
       "1       0.0      0.0       0.0       0.0  \n",
       "2       0.0      0.0       0.0       0.0  \n",
       "3       0.0      0.0       0.0       0.0  \n",
       "4       0.0      0.0       0.0       0.0  "
      ]
     },
     "execution_count": 44,
     "metadata": {},
     "output_type": "execute_result"
    }
   ],
   "source": [
    "# data view\n",
    "\n",
    "fyttlyf_data.head()\n"
   ]
  },
  {
   "cell_type": "code",
   "execution_count": 45,
   "id": "fd9653ba",
   "metadata": {},
   "outputs": [
    {
     "data": {
      "text/plain": [
       "evnt_dt                1\n",
       "Event                  2\n",
       "geo_cntry              2\n",
       "sessn_id           53952\n",
       "visitor_id         51398\n",
       "payload           101022\n",
       "page_name              2\n",
       "devc_name           1438\n",
       "browser_type          30\n",
       "traffic_source        65\n",
       "Level 1                2\n",
       "Level 2                2\n",
       "Level 3                2\n",
       "Level 4                2\n",
       "Level 5                2\n",
       "dtype: int64"
      ]
     },
     "execution_count": 45,
     "metadata": {},
     "output_type": "execute_result"
    }
   ],
   "source": [
    "# Check for unique values in  columns\n",
    "\n",
    "fyttlyf_data.nunique()"
   ]
  },
  {
   "cell_type": "code",
   "execution_count": 46,
   "id": "d0e29cbe",
   "metadata": {},
   "outputs": [
    {
     "data": {
      "text/html": [
       "<div>\n",
       "<style scoped>\n",
       "    .dataframe tbody tr th:only-of-type {\n",
       "        vertical-align: middle;\n",
       "    }\n",
       "\n",
       "    .dataframe tbody tr th {\n",
       "        vertical-align: top;\n",
       "    }\n",
       "\n",
       "    .dataframe thead th {\n",
       "        text-align: right;\n",
       "    }\n",
       "</style>\n",
       "<table border=\"1\" class=\"dataframe\">\n",
       "  <thead>\n",
       "    <tr style=\"text-align: right;\">\n",
       "      <th></th>\n",
       "      <th>evnt_dt</th>\n",
       "      <th>Event</th>\n",
       "      <th>geo_cntry</th>\n",
       "      <th>sessn_id</th>\n",
       "      <th>visitor_id</th>\n",
       "      <th>payload</th>\n",
       "      <th>page_name</th>\n",
       "      <th>devc_name</th>\n",
       "      <th>browser_type</th>\n",
       "      <th>traffic_source</th>\n",
       "      <th>Level 1</th>\n",
       "      <th>Level 2</th>\n",
       "      <th>Level 3</th>\n",
       "      <th>Level 4</th>\n",
       "      <th>Level 5</th>\n",
       "    </tr>\n",
       "  </thead>\n",
       "  <tbody>\n",
       "  </tbody>\n",
       "</table>\n",
       "</div>"
      ],
      "text/plain": [
       "Empty DataFrame\n",
       "Columns: [evnt_dt, Event, geo_cntry, sessn_id, visitor_id, payload, page_name, devc_name, browser_type, traffic_source, Level 1, Level 2 , Level 3, Level 4 , Level 5 ]\n",
       "Index: []"
      ]
     },
     "execution_count": 46,
     "metadata": {},
     "output_type": "execute_result"
    }
   ],
   "source": [
    "# Check for duplicate values\n",
    "\n",
    "dup_data = fyttlyf_data.duplicated(keep='first')\n",
    "fyttlyf_data[dup_data]"
   ]
  },
  {
   "cell_type": "code",
   "execution_count": 47,
   "id": "3beee445",
   "metadata": {},
   "outputs": [
    {
     "data": {
      "text/plain": [
       "Index(['evnt_dt', 'Event', 'geo_cntry', 'sessn_id', 'visitor_id', 'payload',\n",
       "       'page_name', 'devc_name', 'browser_type', 'traffic_source', 'Level 1',\n",
       "       'Level 2 ', 'Level 3', 'Level 4 ', 'Level 5 '],\n",
       "      dtype='object')"
      ]
     },
     "execution_count": 47,
     "metadata": {},
     "output_type": "execute_result"
    }
   ],
   "source": [
    "# Check for columns name\n",
    "\n",
    "fyttlyf_data.columns\n"
   ]
  },
  {
   "cell_type": "code",
   "execution_count": 48,
   "id": "a7dd4b6e",
   "metadata": {},
   "outputs": [],
   "source": [
    "def visitor_crosstab_table(dataset,query):\n",
    "    \"\"\"\n",
    "    Returns a Cross Tab Tables with Level Ratios\n",
    "    'dataset' : The dataset name that needs to be used\n",
    "    'query' : ['devc_name','browser_type','traffic_source']\n",
    "    \"\"\"\n",
    "\n",
    "    query = str(query)\n",
    "    if query not in ['devc_name','browser_type','traffic_source']:\n",
    "        return \"Incorrect Input\"\n",
    "    \n",
    "    # Assigning Query\n",
    "    value = f'{query}'\n",
    "    \n",
    "    # Categorising Unique Visitor Level\n",
    "    dataset['new_level'] = (dataset['Level 1'] + dataset['Level 2 '] + \n",
    "                                 dataset['Level 3'] + dataset['Level 4 '] + dataset['Level 5 '])\n",
    "    \n",
    "    # Removing Unrequired Data\n",
    "    data = dataset[~(dataset['new_level']==0.0)]\n",
    "    \n",
    "    # Creating Two new Tables\n",
    "    data1 = data[~(data['new_level']==1.0)]\n",
    "    tab1 = pd.crosstab(data1[value],data1['new_level']).rename(columns={2.0:'Div1',3.0:'Div2',\n",
    "                                                                                   4.0:'Div3',5.0:'Div4'})\n",
    "    data2 = data[~(data['new_level']==5.0)]\n",
    "    tab2 = pd.crosstab(data2[value],data2['new_level']).rename(columns={1.0:'Div1',2.0:'Div2',\n",
    "                                                                                   3.0:'Div3',4.0:'Div4'})\n",
    "    \n",
    "    # Making Final Table\n",
    "    table = (tab1/tab2).rename(columns={'Div1':'Level 2/Level 1',\n",
    "                                        'Div2':'Level 3/Level 2' ,\n",
    "                                        'Div3':'Level 4/Level 3',\n",
    "                                        'Div4':'Level 5/Level 4'})\n",
    "    return table"
   ]
  },
  {
   "cell_type": "code",
   "execution_count": 49,
   "id": "15d2de24",
   "metadata": {},
   "outputs": [
    {
     "data": {
      "text/html": [
       "<div>\n",
       "<style scoped>\n",
       "    .dataframe tbody tr th:only-of-type {\n",
       "        vertical-align: middle;\n",
       "    }\n",
       "\n",
       "    .dataframe tbody tr th {\n",
       "        vertical-align: top;\n",
       "    }\n",
       "\n",
       "    .dataframe thead th {\n",
       "        text-align: right;\n",
       "    }\n",
       "</style>\n",
       "<table border=\"1\" class=\"dataframe\">\n",
       "  <thead>\n",
       "    <tr style=\"text-align: right;\">\n",
       "      <th>new_level</th>\n",
       "      <th>Level 2/Level 1</th>\n",
       "      <th>Level 3/Level 2</th>\n",
       "      <th>Level 4/Level 3</th>\n",
       "      <th>Level 5/Level 4</th>\n",
       "    </tr>\n",
       "    <tr>\n",
       "      <th>browser_type</th>\n",
       "      <th></th>\n",
       "      <th></th>\n",
       "      <th></th>\n",
       "      <th></th>\n",
       "    </tr>\n",
       "  </thead>\n",
       "  <tbody>\n",
       "    <tr>\n",
       "      <th>#</th>\n",
       "      <td>0.025608</td>\n",
       "      <td>0.050000</td>\n",
       "      <td>10.000000</td>\n",
       "      <td>0.000000</td>\n",
       "    </tr>\n",
       "    <tr>\n",
       "      <th>Amazon Silk</th>\n",
       "      <td>1.714286</td>\n",
       "      <td>1.416667</td>\n",
       "      <td>0.352941</td>\n",
       "      <td>0.000000</td>\n",
       "    </tr>\n",
       "    <tr>\n",
       "      <th>Android Browser</th>\n",
       "      <td>0.012410</td>\n",
       "      <td>0.000000</td>\n",
       "      <td>NaN</td>\n",
       "      <td>inf</td>\n",
       "    </tr>\n",
       "    <tr>\n",
       "      <th>BlackBerry Browser</th>\n",
       "      <td>inf</td>\n",
       "      <td>0.000000</td>\n",
       "      <td>NaN</td>\n",
       "      <td>NaN</td>\n",
       "    </tr>\n",
       "    <tr>\n",
       "      <th>Chrome</th>\n",
       "      <td>0.291928</td>\n",
       "      <td>0.426466</td>\n",
       "      <td>2.538693</td>\n",
       "      <td>0.217520</td>\n",
       "    </tr>\n",
       "    <tr>\n",
       "      <th>Chrome Mobile</th>\n",
       "      <td>0.797444</td>\n",
       "      <td>0.237332</td>\n",
       "      <td>1.505447</td>\n",
       "      <td>0.281838</td>\n",
       "    </tr>\n",
       "    <tr>\n",
       "      <th>Chromium</th>\n",
       "      <td>NaN</td>\n",
       "      <td>NaN</td>\n",
       "      <td>NaN</td>\n",
       "      <td>NaN</td>\n",
       "    </tr>\n",
       "    <tr>\n",
       "      <th>Edge</th>\n",
       "      <td>1.099785</td>\n",
       "      <td>0.359024</td>\n",
       "      <td>1.760870</td>\n",
       "      <td>0.361111</td>\n",
       "    </tr>\n",
       "    <tr>\n",
       "      <th>Firefox</th>\n",
       "      <td>0.362582</td>\n",
       "      <td>0.211042</td>\n",
       "      <td>2.254279</td>\n",
       "      <td>0.369848</td>\n",
       "    </tr>\n",
       "    <tr>\n",
       "      <th>Firefox Focus</th>\n",
       "      <td>NaN</td>\n",
       "      <td>NaN</td>\n",
       "      <td>NaN</td>\n",
       "      <td>NaN</td>\n",
       "    </tr>\n",
       "    <tr>\n",
       "      <th>HeyTap Browser</th>\n",
       "      <td>0.000000</td>\n",
       "      <td>NaN</td>\n",
       "      <td>inf</td>\n",
       "      <td>0.000000</td>\n",
       "    </tr>\n",
       "    <tr>\n",
       "      <th>Internet Explorer</th>\n",
       "      <td>2.192771</td>\n",
       "      <td>0.153846</td>\n",
       "      <td>0.964286</td>\n",
       "      <td>1.000000</td>\n",
       "    </tr>\n",
       "    <tr>\n",
       "      <th>Internet Explorer Mobile</th>\n",
       "      <td>2.000000</td>\n",
       "      <td>0.000000</td>\n",
       "      <td>NaN</td>\n",
       "      <td>NaN</td>\n",
       "    </tr>\n",
       "    <tr>\n",
       "      <th>Iron</th>\n",
       "      <td>2.000000</td>\n",
       "      <td>0.000000</td>\n",
       "      <td>inf</td>\n",
       "      <td>0.000000</td>\n",
       "    </tr>\n",
       "    <tr>\n",
       "      <th>MIUI Browser</th>\n",
       "      <td>0.980392</td>\n",
       "      <td>0.720000</td>\n",
       "      <td>0.527778</td>\n",
       "      <td>0.052632</td>\n",
       "    </tr>\n",
       "    <tr>\n",
       "      <th>MQQ Browser</th>\n",
       "      <td>NaN</td>\n",
       "      <td>NaN</td>\n",
       "      <td>NaN</td>\n",
       "      <td>NaN</td>\n",
       "    </tr>\n",
       "    <tr>\n",
       "      <th>Maxthon</th>\n",
       "      <td>0.000000</td>\n",
       "      <td>NaN</td>\n",
       "      <td>inf</td>\n",
       "      <td>0.000000</td>\n",
       "    </tr>\n",
       "    <tr>\n",
       "      <th>Nokia S60 Browser</th>\n",
       "      <td>NaN</td>\n",
       "      <td>NaN</td>\n",
       "      <td>inf</td>\n",
       "      <td>0.000000</td>\n",
       "    </tr>\n",
       "    <tr>\n",
       "      <th>Opera</th>\n",
       "      <td>3.666667</td>\n",
       "      <td>0.060606</td>\n",
       "      <td>10.500000</td>\n",
       "      <td>0.000000</td>\n",
       "    </tr>\n",
       "    <tr>\n",
       "      <th>Opera Mini</th>\n",
       "      <td>inf</td>\n",
       "      <td>0.000000</td>\n",
       "      <td>NaN</td>\n",
       "      <td>NaN</td>\n",
       "    </tr>\n",
       "    <tr>\n",
       "      <th>Opera Mobile</th>\n",
       "      <td>3.285714</td>\n",
       "      <td>0.369565</td>\n",
       "      <td>0.970588</td>\n",
       "      <td>0.000000</td>\n",
       "    </tr>\n",
       "    <tr>\n",
       "      <th>Opera Touch</th>\n",
       "      <td>1.111111</td>\n",
       "      <td>0.000000</td>\n",
       "      <td>inf</td>\n",
       "      <td>0.000000</td>\n",
       "    </tr>\n",
       "    <tr>\n",
       "      <th>Pale Moon</th>\n",
       "      <td>inf</td>\n",
       "      <td>0.000000</td>\n",
       "      <td>NaN</td>\n",
       "      <td>NaN</td>\n",
       "    </tr>\n",
       "    <tr>\n",
       "      <th>Puffin</th>\n",
       "      <td>3.000000</td>\n",
       "      <td>0.666667</td>\n",
       "      <td>1.000000</td>\n",
       "      <td>0.000000</td>\n",
       "    </tr>\n",
       "    <tr>\n",
       "      <th>Safari</th>\n",
       "      <td>1.019980</td>\n",
       "      <td>0.172414</td>\n",
       "      <td>1.661972</td>\n",
       "      <td>0.342373</td>\n",
       "    </tr>\n",
       "    <tr>\n",
       "      <th>Samsung Browser</th>\n",
       "      <td>1.853035</td>\n",
       "      <td>0.200862</td>\n",
       "      <td>1.892704</td>\n",
       "      <td>0.219955</td>\n",
       "    </tr>\n",
       "    <tr>\n",
       "      <th>UC Browser</th>\n",
       "      <td>0.000000</td>\n",
       "      <td>NaN</td>\n",
       "      <td>inf</td>\n",
       "      <td>0.000000</td>\n",
       "    </tr>\n",
       "    <tr>\n",
       "      <th>UP.Browser</th>\n",
       "      <td>NaN</td>\n",
       "      <td>NaN</td>\n",
       "      <td>NaN</td>\n",
       "      <td>NaN</td>\n",
       "    </tr>\n",
       "    <tr>\n",
       "      <th>Vivaldi</th>\n",
       "      <td>inf</td>\n",
       "      <td>0.000000</td>\n",
       "      <td>NaN</td>\n",
       "      <td>NaN</td>\n",
       "    </tr>\n",
       "    <tr>\n",
       "      <th>Yandex.Browser</th>\n",
       "      <td>NaN</td>\n",
       "      <td>inf</td>\n",
       "      <td>3.000000</td>\n",
       "      <td>0.000000</td>\n",
       "    </tr>\n",
       "  </tbody>\n",
       "</table>\n",
       "</div>"
      ],
      "text/plain": [
       "new_level                 Level 2/Level 1  Level 3/Level 2  Level 4/Level 3  \\\n",
       "browser_type                                                                  \n",
       "#                                0.025608         0.050000        10.000000   \n",
       "Amazon Silk                      1.714286         1.416667         0.352941   \n",
       "Android Browser                  0.012410         0.000000              NaN   \n",
       "BlackBerry Browser                    inf         0.000000              NaN   \n",
       "Chrome                           0.291928         0.426466         2.538693   \n",
       "Chrome Mobile                    0.797444         0.237332         1.505447   \n",
       "Chromium                              NaN              NaN              NaN   \n",
       "Edge                             1.099785         0.359024         1.760870   \n",
       "Firefox                          0.362582         0.211042         2.254279   \n",
       "Firefox Focus                         NaN              NaN              NaN   \n",
       "HeyTap Browser                   0.000000              NaN              inf   \n",
       "Internet Explorer                2.192771         0.153846         0.964286   \n",
       "Internet Explorer Mobile         2.000000         0.000000              NaN   \n",
       "Iron                             2.000000         0.000000              inf   \n",
       "MIUI Browser                     0.980392         0.720000         0.527778   \n",
       "MQQ Browser                           NaN              NaN              NaN   \n",
       "Maxthon                          0.000000              NaN              inf   \n",
       "Nokia S60 Browser                     NaN              NaN              inf   \n",
       "Opera                            3.666667         0.060606        10.500000   \n",
       "Opera Mini                            inf         0.000000              NaN   \n",
       "Opera Mobile                     3.285714         0.369565         0.970588   \n",
       "Opera Touch                      1.111111         0.000000              inf   \n",
       "Pale Moon                             inf         0.000000              NaN   \n",
       "Puffin                           3.000000         0.666667         1.000000   \n",
       "Safari                           1.019980         0.172414         1.661972   \n",
       "Samsung Browser                  1.853035         0.200862         1.892704   \n",
       "UC Browser                       0.000000              NaN              inf   \n",
       "UP.Browser                            NaN              NaN              NaN   \n",
       "Vivaldi                               inf         0.000000              NaN   \n",
       "Yandex.Browser                        NaN              inf         3.000000   \n",
       "\n",
       "new_level                 Level 5/Level 4  \n",
       "browser_type                               \n",
       "#                                0.000000  \n",
       "Amazon Silk                      0.000000  \n",
       "Android Browser                       inf  \n",
       "BlackBerry Browser                    NaN  \n",
       "Chrome                           0.217520  \n",
       "Chrome Mobile                    0.281838  \n",
       "Chromium                              NaN  \n",
       "Edge                             0.361111  \n",
       "Firefox                          0.369848  \n",
       "Firefox Focus                         NaN  \n",
       "HeyTap Browser                   0.000000  \n",
       "Internet Explorer                1.000000  \n",
       "Internet Explorer Mobile              NaN  \n",
       "Iron                             0.000000  \n",
       "MIUI Browser                     0.052632  \n",
       "MQQ Browser                           NaN  \n",
       "Maxthon                          0.000000  \n",
       "Nokia S60 Browser                0.000000  \n",
       "Opera                            0.000000  \n",
       "Opera Mini                            NaN  \n",
       "Opera Mobile                     0.000000  \n",
       "Opera Touch                      0.000000  \n",
       "Pale Moon                             NaN  \n",
       "Puffin                           0.000000  \n",
       "Safari                           0.342373  \n",
       "Samsung Browser                  0.219955  \n",
       "UC Browser                       0.000000  \n",
       "UP.Browser                            NaN  \n",
       "Vivaldi                               NaN  \n",
       "Yandex.Browser                   0.000000  "
      ]
     },
     "execution_count": 49,
     "metadata": {},
     "output_type": "execute_result"
    }
   ],
   "source": [
    "# Crosstabbed Value of Unique Visitor Count\n",
    "\n",
    "visitor_crosstab_table(fyttlyf_data,'browser_type')\n"
   ]
  },
  {
   "cell_type": "markdown",
   "id": "7f1ac688",
   "metadata": {},
   "source": [
    "# Summary Task 4"
   ]
  },
  {
   "cell_type": "markdown",
   "id": "26752f80",
   "metadata": {},
   "source": [
    "Created a function which takes two inputs - dataset & column name.\n"
   ]
  },
  {
   "cell_type": "markdown",
   "id": "416977b2",
   "metadata": {},
   "source": [
    "Return a cross tabulated table with ratios of Levels\n"
   ]
  },
  {
   "cell_type": "code",
   "execution_count": null,
   "id": "260a8ef2",
   "metadata": {},
   "outputs": [],
   "source": []
  },
  {
   "cell_type": "markdown",
   "id": "09e6642d",
   "metadata": {},
   "source": [
    "# Task 5"
   ]
  },
  {
   "cell_type": "markdown",
   "id": "c6e437f0",
   "metadata": {},
   "source": [
    "The payload column contains keys=value pairs separated by ‘&’. Make a function that exports a CSV that expands the data in the following format for all key-value pairs in the payload column.\n",
    "\n"
   ]
  },
  {
   "cell_type": "code",
   "execution_count": 50,
   "id": "3f34c5d2",
   "metadata": {},
   "outputs": [],
   "source": [
    "# Take One Sample\n",
    "\n",
    "sample_value = fyttlyf_data.sample(1)\n"
   ]
  },
  {
   "cell_type": "code",
   "execution_count": 51,
   "id": "725b0bcf",
   "metadata": {},
   "outputs": [],
   "source": [
    "# Function for Payload Output CSV File\n",
    "def payload_csv(sample):\n",
    "    \"\"\"\n",
    "    Takes a single sample input of dataframe with payload as column in it.\n",
    "    Returns : CSV file \n",
    "    \"\"\"\n",
    "    # Error Check 1\n",
    "    if sample.shape[0] != 1:\n",
    "        return f\"Input with row size 1 only, Current Row Size : {sample.shape[0]}\"\n",
    "    \n",
    "    # Error Check 2\n",
    "    if 'payload' not in sample.columns:\n",
    "        return \"Sample does not contain 'payload' column. Please try again\"\n",
    "    \n",
    "    # Dictionary Creation\n",
    "    new_dict = {\n",
    "        \"evnt_dt\" : [],\n",
    "        \"visitor_id\" : [],\n",
    "        \"payload_key\" : [],\n",
    "        \"payload_value\" : []}\n",
    "    \n",
    "    # Error handling (If Any)\n",
    "    try:\n",
    "        mylist = sample['payload'].str.split('&',expand=True)\n",
    "        event = sample['evnt_dt'].values[0]\n",
    "        visit = sample['visitor_id'].values[0]\n",
    "        loop_values = mylist.T\n",
    "\n",
    "        for i,j in loop_values.iterrows():\n",
    "            new_dict['evnt_dt'].append(event)\n",
    "            new_dict['visitor_id'].append(visit)\n",
    "            new_dict['payload_key'].append(j.str.split('=',expand=True)[0].values[0])\n",
    "            new_dict['payload_value'].append(j.str.split('=',expand=True)[1].values[0])\n",
    "\n",
    "        df = pd.DataFrame(new_dict)\n",
    "        df.to_csv(f\"{visit}\"+\".csv\")\n",
    "    except:\n",
    "        print(\"Something went wrong .Please check again!\")\n",
    "    return df\n"
   ]
  },
  {
   "cell_type": "code",
   "execution_count": 52,
   "id": "1d096eb9",
   "metadata": {},
   "outputs": [
    {
     "data": {
      "text/html": [
       "<div>\n",
       "<style scoped>\n",
       "    .dataframe tbody tr th:only-of-type {\n",
       "        vertical-align: middle;\n",
       "    }\n",
       "\n",
       "    .dataframe tbody tr th {\n",
       "        vertical-align: top;\n",
       "    }\n",
       "\n",
       "    .dataframe thead th {\n",
       "        text-align: right;\n",
       "    }\n",
       "</style>\n",
       "<table border=\"1\" class=\"dataframe\">\n",
       "  <thead>\n",
       "    <tr style=\"text-align: right;\">\n",
       "      <th></th>\n",
       "      <th>evnt_dt</th>\n",
       "      <th>visitor_id</th>\n",
       "      <th>payload_key</th>\n",
       "      <th>payload_value</th>\n",
       "    </tr>\n",
       "  </thead>\n",
       "  <tbody>\n",
       "    <tr>\n",
       "      <th>0</th>\n",
       "      <td>2021-02-02</td>\n",
       "      <td>7500039d1670gc1e84gc63gc3ccffffe1d9</td>\n",
       "      <td>isp_mozioxile_ckijrrier</td>\n",
       "      <td>O2 Deutschlkijnd</td>\n",
       "    </tr>\n",
       "    <tr>\n",
       "      <th>1</th>\n",
       "      <td>2021-02-02</td>\n",
       "      <td>7500039d1670gc1e84gc63gc3ccffffe1d9</td>\n",
       "      <td>session_id_cookie_id</td>\n",
       "      <td>7500039d1670kij1e84kij63kij3ccffffe1d9-ziox1d7...</td>\n",
       "    </tr>\n",
       "    <tr>\n",
       "      <th>2</th>\n",
       "      <td>2021-02-02</td>\n",
       "      <td>7500039d1670gc1e84gc63gc3ccffffe1d9</td>\n",
       "      <td>t1d</td>\n",
       "      <td>0</td>\n",
       "    </tr>\n",
       "    <tr>\n",
       "      <th>3</th>\n",
       "      <td>2021-02-02</td>\n",
       "      <td>7500039d1670gc1e84gc63gc3ccffffe1d9</td>\n",
       "      <td>lgin</td>\n",
       "      <td>out</td>\n",
       "    </tr>\n",
       "    <tr>\n",
       "      <th>4</th>\n",
       "      <td>2021-02-02</td>\n",
       "      <td>7500039d1670gc1e84gc63gc3ccffffe1d9</td>\n",
       "      <td>s</td>\n",
       "      <td>ci</td>\n",
       "    </tr>\n",
       "    <tr>\n",
       "      <th>...</th>\n",
       "      <td>...</td>\n",
       "      <td>...</td>\n",
       "      <td>...</td>\n",
       "      <td>...</td>\n",
       "    </tr>\n",
       "    <tr>\n",
       "      <th>76</th>\n",
       "      <td>2021-02-02</td>\n",
       "      <td>7500039d1670gc1e84gc63gc3ccffffe1d9</td>\n",
       "      <td>zioxzsr</td>\n",
       "      <td>mkijin</td>\n",
       "    </tr>\n",
       "    <tr>\n",
       "      <th>77</th>\n",
       "      <td>2021-02-02</td>\n",
       "      <td>7500039d1670gc1e84gc63gc3ccffffe1d9</td>\n",
       "      <td>tsw_t</td>\n",
       "      <td>1622186389989</td>\n",
       "    </tr>\n",
       "    <tr>\n",
       "      <th>78</th>\n",
       "      <td>2021-02-02</td>\n",
       "      <td>7500039d1670gc1e84gc63gc3ccffffe1d9</td>\n",
       "      <td>view</td>\n",
       "      <td>{\"t10\":48,\"t11\":2029,\"tcp\":878,\"et\":\"4g\",\"nt\":...</td>\n",
       "    </tr>\n",
       "    <tr>\n",
       "      <th>79</th>\n",
       "      <td>2021-02-02</td>\n",
       "      <td>7500039d1670gc1e84gc63gc3ccffffe1d9</td>\n",
       "      <td>csci</td>\n",
       "      <td>736090014ecc427czioxd17kij78f0kij720768</td>\n",
       "    </tr>\n",
       "    <tr>\n",
       "      <th>80</th>\n",
       "      <td>2021-02-02</td>\n",
       "      <td>7500039d1670gc1e84gc63gc3ccffffe1d9</td>\n",
       "      <td>sh</td>\n",
       "      <td>640</td>\n",
       "    </tr>\n",
       "  </tbody>\n",
       "</table>\n",
       "<p>81 rows × 4 columns</p>\n",
       "</div>"
      ],
      "text/plain": [
       "      evnt_dt                           visitor_id              payload_key  \\\n",
       "0  2021-02-02  7500039d1670gc1e84gc63gc3ccffffe1d9  isp_mozioxile_ckijrrier   \n",
       "1  2021-02-02  7500039d1670gc1e84gc63gc3ccffffe1d9     session_id_cookie_id   \n",
       "2  2021-02-02  7500039d1670gc1e84gc63gc3ccffffe1d9                      t1d   \n",
       "3  2021-02-02  7500039d1670gc1e84gc63gc3ccffffe1d9                     lgin   \n",
       "4  2021-02-02  7500039d1670gc1e84gc63gc3ccffffe1d9                        s   \n",
       "..        ...                                  ...                      ...   \n",
       "76 2021-02-02  7500039d1670gc1e84gc63gc3ccffffe1d9                  zioxzsr   \n",
       "77 2021-02-02  7500039d1670gc1e84gc63gc3ccffffe1d9                    tsw_t   \n",
       "78 2021-02-02  7500039d1670gc1e84gc63gc3ccffffe1d9                     view   \n",
       "79 2021-02-02  7500039d1670gc1e84gc63gc3ccffffe1d9                     csci   \n",
       "80 2021-02-02  7500039d1670gc1e84gc63gc3ccffffe1d9                       sh   \n",
       "\n",
       "                                        payload_value  \n",
       "0                                    O2 Deutschlkijnd  \n",
       "1   7500039d1670kij1e84kij63kij3ccffffe1d9-ziox1d7...  \n",
       "2                                                   0  \n",
       "3                                                 out  \n",
       "4                                                  ci  \n",
       "..                                                ...  \n",
       "76                                             mkijin  \n",
       "77                                      1622186389989  \n",
       "78  {\"t10\":48,\"t11\":2029,\"tcp\":878,\"et\":\"4g\",\"nt\":...  \n",
       "79            736090014ecc427czioxd17kij78f0kij720768  \n",
       "80                                                640  \n",
       "\n",
       "[81 rows x 4 columns]"
      ]
     },
     "execution_count": 52,
     "metadata": {},
     "output_type": "execute_result"
    }
   ],
   "source": [
    "# Try Function\n",
    "\n",
    "payload_csv(sample_value)\n"
   ]
  },
  {
   "cell_type": "code",
   "execution_count": null,
   "id": "0b49d707",
   "metadata": {},
   "outputs": [],
   "source": []
  },
  {
   "cell_type": "markdown",
   "id": "5a810e65",
   "metadata": {},
   "source": [
    "# Task 6"
   ]
  },
  {
   "cell_type": "markdown",
   "id": "ddb5900f",
   "metadata": {},
   "source": [
    "Can you write python/R script to answers the following questions with visualization?"
   ]
  },
  {
   "cell_type": "markdown",
   "id": "d52a8132",
   "metadata": {},
   "source": [
    "a : What is the CTR (Click-through rate) at geo_cntry level. (CTR = count distinct sessn_id where event = click / count distinct sessn_id where event = impressions )\n"
   ]
  },
  {
   "cell_type": "markdown",
   "id": "0c26c064",
   "metadata": {},
   "source": [
    "b : What is the trend of the distinct count of visitors on an evnt_dt level? Display your answer in the best possible graph.\n"
   ]
  },
  {
   "cell_type": "markdown",
   "id": "65d6b573",
   "metadata": {},
   "source": [
    "c : Which browser type get the highest click sessions & on which evnt_dt?\n"
   ]
  },
  {
   "cell_type": "markdown",
   "id": "145f131d",
   "metadata": {},
   "source": [
    "# Task 6.a"
   ]
  },
  {
   "cell_type": "markdown",
   "id": "dba9d5fd",
   "metadata": {},
   "source": [
    "What is the CTR (Click-through rate) at geo_cntry level. (CTR = count distinct sessn_id where event = click / count distinct sessn_id where event = impressions )\n",
    "\n"
   ]
  },
  {
   "cell_type": "code",
   "execution_count": 53,
   "id": "ebd4d227",
   "metadata": {},
   "outputs": [
    {
     "data": {
      "text/plain": [
       "array(['Impression', 'Click'], dtype=object)"
      ]
     },
     "execution_count": 53,
     "metadata": {},
     "output_type": "execute_result"
    }
   ],
   "source": [
    "# Check for Unique Events\n",
    "\n",
    "fyttlyf_data['Event'].unique()\n"
   ]
  },
  {
   "cell_type": "code",
   "execution_count": 54,
   "id": "dbe950eb",
   "metadata": {},
   "outputs": [
    {
     "data": {
      "text/html": [
       "<div>\n",
       "<style scoped>\n",
       "    .dataframe tbody tr th:only-of-type {\n",
       "        vertical-align: middle;\n",
       "    }\n",
       "\n",
       "    .dataframe tbody tr th {\n",
       "        vertical-align: top;\n",
       "    }\n",
       "\n",
       "    .dataframe thead th {\n",
       "        text-align: right;\n",
       "    }\n",
       "</style>\n",
       "<table border=\"1\" class=\"dataframe\">\n",
       "  <thead>\n",
       "    <tr style=\"text-align: right;\">\n",
       "      <th></th>\n",
       "      <th>sessn_id</th>\n",
       "    </tr>\n",
       "    <tr>\n",
       "      <th>geo_cntry</th>\n",
       "      <th></th>\n",
       "    </tr>\n",
       "  </thead>\n",
       "  <tbody>\n",
       "    <tr>\n",
       "      <th>France</th>\n",
       "      <td>0.365698</td>\n",
       "    </tr>\n",
       "    <tr>\n",
       "      <th>United States</th>\n",
       "      <td>0.359189</td>\n",
       "    </tr>\n",
       "  </tbody>\n",
       "</table>\n",
       "</div>"
      ],
      "text/plain": [
       "               sessn_id\n",
       "geo_cntry              \n",
       "France         0.365698\n",
       "United States  0.359189"
      ]
     },
     "execution_count": 54,
     "metadata": {},
     "output_type": "execute_result"
    }
   ],
   "source": [
    "### Calculating Click Ratio\n",
    "\n",
    "# Seperating Data for `Click` & `Impression`\n",
    "data1 = fyttlyf_data[fyttlyf_data['Event'] == 'Click']\n",
    "data2 = fyttlyf_data[fyttlyf_data['Event'] == 'Impression']\n",
    "\n",
    "# Grouping By Geo Country & Calcuating Distinct Session ID Count\n",
    "geo_group1 = data1.groupby(['geo_cntry']).nunique()[['sessn_id']]\n",
    "geo_group2 = data2.groupby(['geo_cntry']).nunique()[['sessn_id']]\n",
    "\n",
    "# Cacluating Click Ratio by Geo Country\n",
    "click_ratio = geo_group1/geo_group2\n",
    "click_ratio\n"
   ]
  },
  {
   "cell_type": "code",
   "execution_count": 55,
   "id": "a7ea272a",
   "metadata": {},
   "outputs": [
    {
     "data": {
      "image/png": "[encoded data removed]",
      "text/plain": [
       "<Figure size 720x432 with 1 Axes>"
      ]
     },
     "metadata": {
      "needs_background": "light"
     },
     "output_type": "display_data"
    }
   ],
   "source": [
    "# Plotting Click Ratio\n",
    "\n",
    "ax = sns.barplot(x=click_ratio.index, y=click_ratio['sessn_id']);\n",
    "ax.set_title(\"Click Through ratio (CTR) at Geo Country Level\")\n",
    "ax.set_ylabel('CT Ratio')\n",
    "ax.set_xlabel('Geo-Country')\n",
    "plt.show()\n"
   ]
  },
  {
   "cell_type": "markdown",
   "id": "d17246c0",
   "metadata": {},
   "source": [
    "Note : There is not much difference in terms of Click Ratio for both countries available here."
   ]
  },
  {
   "cell_type": "markdown",
   "id": "7e44b50e",
   "metadata": {},
   "source": [
    "# Task 6.b\n"
   ]
  },
  {
   "cell_type": "markdown",
   "id": "bb149b48",
   "metadata": {},
   "source": [
    "What is the trend of the distinct count of visitors on an evnt_dt level? Display your answer in the best possible graph"
   ]
  },
  {
   "cell_type": "code",
   "execution_count": 56,
   "id": "8b7b007f",
   "metadata": {},
   "outputs": [
    {
     "data": {
      "text/plain": [
       "array(['2021-02-02T00:00:00.000000000'], dtype='datetime64[ns]')"
      ]
     },
     "execution_count": 56,
     "metadata": {},
     "output_type": "execute_result"
    }
   ],
   "source": [
    "# Unique Values at `evnt_dt` level\n",
    "\n",
    "fyttlyf_data['evnt_dt'].unique()"
   ]
  },
  {
   "cell_type": "markdown",
   "id": "cff64a1b",
   "metadata": {},
   "source": [
    "Note : We don't have any varition of data at evnt_dt level like different time aspect or different date aspect. Its not possible to show any kind of trend with respect to that.\n",
    "\n"
   ]
  },
  {
   "cell_type": "markdown",
   "id": "cb47d864",
   "metadata": {},
   "source": [
    "More Data Required : Date Variation, Time Variation"
   ]
  },
  {
   "cell_type": "markdown",
   "id": "acceb59f",
   "metadata": {},
   "source": [
    "# Task 6.c"
   ]
  },
  {
   "cell_type": "markdown",
   "id": "b6221580",
   "metadata": {},
   "source": [
    "Which browser type get the highest click sessions & on which evnt_dt?"
   ]
  },
  {
   "cell_type": "code",
   "execution_count": 57,
   "id": "b2d37b0f",
   "metadata": {},
   "outputs": [
    {
     "data": {
      "text/html": [
       "<div>\n",
       "<style scoped>\n",
       "    .dataframe tbody tr th:only-of-type {\n",
       "        vertical-align: middle;\n",
       "    }\n",
       "\n",
       "    .dataframe tbody tr th {\n",
       "        vertical-align: top;\n",
       "    }\n",
       "\n",
       "    .dataframe thead th {\n",
       "        text-align: right;\n",
       "    }\n",
       "</style>\n",
       "<table border=\"1\" class=\"dataframe\">\n",
       "  <thead>\n",
       "    <tr style=\"text-align: right;\">\n",
       "      <th>browser_type</th>\n",
       "      <th>Chrome Mobile</th>\n",
       "      <th>Chrome</th>\n",
       "      <th>Safari</th>\n",
       "      <th>Firefox</th>\n",
       "      <th>Edge</th>\n",
       "      <th>Samsung Browser</th>\n",
       "      <th>Internet Explorer</th>\n",
       "      <th>Opera Mobile</th>\n",
       "      <th>MIUI Browser</th>\n",
       "      <th>Amazon Silk</th>\n",
       "      <th>...</th>\n",
       "      <th>Puffin</th>\n",
       "      <th>HeyTap Browser</th>\n",
       "      <th>BlackBerry Browser</th>\n",
       "      <th>Opera Mini</th>\n",
       "      <th>Iron</th>\n",
       "      <th>Vivaldi</th>\n",
       "      <th>Maxthon</th>\n",
       "      <th>Pale Moon</th>\n",
       "      <th>Nokia S60 Browser</th>\n",
       "      <th>Yandex.Browser</th>\n",
       "    </tr>\n",
       "  </thead>\n",
       "  <tbody>\n",
       "    <tr>\n",
       "      <th>Event</th>\n",
       "      <td>10510</td>\n",
       "      <td>8784</td>\n",
       "      <td>7322</td>\n",
       "      <td>2805</td>\n",
       "      <td>2473</td>\n",
       "      <td>1410</td>\n",
       "      <td>165</td>\n",
       "      <td>111</td>\n",
       "      <td>73</td>\n",
       "      <td>27</td>\n",
       "      <td>...</td>\n",
       "      <td>4</td>\n",
       "      <td>3</td>\n",
       "      <td>3</td>\n",
       "      <td>2</td>\n",
       "      <td>2</td>\n",
       "      <td>1</td>\n",
       "      <td>1</td>\n",
       "      <td>1</td>\n",
       "      <td>1</td>\n",
       "      <td>1</td>\n",
       "    </tr>\n",
       "  </tbody>\n",
       "</table>\n",
       "<p>1 rows × 25 columns</p>\n",
       "</div>"
      ],
      "text/plain": [
       "browser_type  Chrome Mobile  Chrome  Safari  Firefox  Edge  Samsung Browser  \\\n",
       "Event                 10510    8784    7322     2805  2473             1410   \n",
       "\n",
       "browser_type  Internet Explorer  Opera Mobile  MIUI Browser  Amazon Silk  ...  \\\n",
       "Event                       165           111            73           27  ...   \n",
       "\n",
       "browser_type  Puffin  HeyTap Browser  BlackBerry Browser  Opera Mini  Iron  \\\n",
       "Event              4               3                   3           2     2   \n",
       "\n",
       "browser_type  Vivaldi  Maxthon  Pale Moon  Nokia S60 Browser  Yandex.Browser  \n",
       "Event               1        1          1                  1               1  \n",
       "\n",
       "[1 rows x 25 columns]"
      ]
     },
     "execution_count": 57,
     "metadata": {},
     "output_type": "execute_result"
    }
   ],
   "source": [
    "# Selecy data with Event == Click\n",
    "click_session_data = fyttlyf_data[fyttlyf_data['Event'] == 'Click']\n",
    "\n",
    "# Grouping with Browser Type\n",
    "highest_click_session = click_session_data.groupby(['browser_type']).count()[['Event']]\n",
    "highest_click_session = highest_click_session.sort_values(by='Event',ascending=False) # Sorting\n",
    "highest_click_session.T\n"
   ]
  },
  {
   "cell_type": "code",
   "execution_count": 58,
   "id": "23ff2803",
   "metadata": {},
   "outputs": [
    {
     "data": {
      "text/plain": [
       "Index(['Chrome Mobile', 'Chrome', 'Safari', 'Firefox', 'Edge',\n",
       "       'Samsung Browser', 'Internet Explorer', 'Opera Mobile', 'MIUI Browser',\n",
       "       'Amazon Silk', 'Opera', 'Android Browser', '#', 'Opera Touch',\n",
       "       'UC Browser', 'Puffin', 'HeyTap Browser', 'BlackBerry Browser',\n",
       "       'Opera Mini', 'Iron', 'Vivaldi', 'Maxthon', 'Pale Moon',\n",
       "       'Nokia S60 Browser', 'Yandex.Browser'],\n",
       "      dtype='object', name='browser_type')"
      ]
     },
     "execution_count": 58,
     "metadata": {},
     "output_type": "execute_result"
    }
   ],
   "source": [
    "# Lables Names\n",
    "\n",
    "highest_click_session.index.unique()"
   ]
  },
  {
   "cell_type": "code",
   "execution_count": 59,
   "id": "4080a736",
   "metadata": {},
   "outputs": [
    {
     "data": {
      "image/png": "[encoded data removed]",
      "text/plain": [
       "<Figure size 720x432 with 1 Axes>"
      ]
     },
     "metadata": {
      "needs_background": "light"
     },
     "output_type": "display_data"
    }
   ],
   "source": [
    "# Highest Click Session Graph\n",
    "\n",
    "ax = sns.barplot(x=highest_click_session.index,y=highest_click_session['Event'])\n",
    "ax.set_xticklabels(labels= ['Chrome Mobile', 'Chrome', 'Safari', 'Firefox', 'Edge',\n",
    "       'Samsung Browser', 'Internet Explorer', 'Opera Mobile', 'MIUI Browser',\n",
    "       'Amazon Silk', 'Opera', 'Android Browser', '#', 'Opera Touch',\n",
    "       'UC Browser', 'Puffin', 'HeyTap Browser', 'BlackBerry Browser',\n",
    "       'Opera Mini', 'Iron', 'Vivaldi', 'Maxthon', 'Pale Moon',\n",
    "       'Nokia S60 Browser', 'Yandex.Browser'], rotation=90)\n",
    "ax.set_title(\"Highest Click Session on Different Browsers\")\n",
    "ax.set_xlabel(\"Browser Type\")\n",
    "ax.set_ylabel(\"Click Session Count\")\n",
    "plt.show()\n"
   ]
  },
  {
   "cell_type": "markdown",
   "id": "0a478265",
   "metadata": {},
   "source": [
    "Note : For Event as Click sessions we saw that Chrome Mobile as Browser Type got the highest clicks.\n",
    "\n"
   ]
  },
  {
   "cell_type": "markdown",
   "id": "1f0b6abb",
   "metadata": {},
   "source": [
    "# Summary Task 6\n"
   ]
  },
  {
   "cell_type": "markdown",
   "id": "42f19e4b",
   "metadata": {},
   "source": [
    "There is not much difference in terms of Click Ratio for both countries available here.\n"
   ]
  },
  {
   "cell_type": "markdown",
   "id": "8ac4f100",
   "metadata": {},
   "source": [
    "For France the ratio is 0.365698 which means 36 click per 100 impression.\n"
   ]
  },
  {
   "cell_type": "markdown",
   "id": "dbd41791",
   "metadata": {},
   "source": [
    "For United States the ratio is 0.359189 which means 35 click per 100 impression"
   ]
  },
  {
   "cell_type": "markdown",
   "id": "f66ea3e1",
   "metadata": {},
   "source": [
    "We don't have any varition of data at evnt_dt level like set of different time aspect or different date aspect. Hence it's not possible to show any kind of trend with respect to that.\n"
   ]
  },
  {
   "cell_type": "markdown",
   "id": "5708ce36",
   "metadata": {},
   "source": [
    "For Event as Click sessions we saw that Chrome Mobile as Browser Type got the highest clicks.\n"
   ]
  },
  {
   "cell_type": "code",
   "execution_count": null,
   "id": "995df7e1",
   "metadata": {},
   "outputs": [],
   "source": []
  },
  {
   "cell_type": "markdown",
   "id": "8ee6d2f0",
   "metadata": {},
   "source": [
    "# Task 7\n"
   ]
  },
  {
   "cell_type": "markdown",
   "id": "7524396c",
   "metadata": {},
   "source": [
    "Please briefly describe the latest Data science project you did in less than 500 words.\n",
    "\n"
   ]
  },
  {
   "cell_type": "markdown",
   "id": "74f81dae",
   "metadata": {},
   "source": [
    "In this project we’re exploring my personal Spotify usage. Spotify is one the most famous and popular music streaming platforms available. I downloaded this dataset from Spotify's Privacy Setting section, which allows anyone to download their personal usage data. With this dataset I tried to analyse my streaming history to gain some useful insights.\n",
    "\n"
   ]
  },
  {
   "cell_type": "markdown",
   "id": "1a9fc99b",
   "metadata": {},
   "source": [
    "First step required us to download the dataset and pre-processing. The downloaded dataset came in multiple files and in json format. I used the pd.read_json and pd.concat method to load and merge the dataset. After merging I had to seperate the datetime components into several columns like day,time,hour etc. I took help of the pd.to_datetime method to separate the components and get usable column values. And with this I finished the formatting and cleaning process.\n",
    "\n"
   ]
  },
  {
   "cell_type": "markdown",
   "id": "18ae47f3",
   "metadata": {},
   "source": [
    "Next comes the Exploratory Data Analysis part which is the most important part of any project. This is getting hands down part with the given dataset and knowing in-out of it. As this dataset does not contain much statistical data, we can directly jump to exploring different columns and their distribution. I used functions like nunique count, groupby, sum, sort_values and more to calculate the tables and values. And based on those results I plotted graphs with help of seaborn and matplotlib."
   ]
  },
  {
   "cell_type": "markdown",
   "id": "924c9f36",
   "metadata": {},
   "source": [
    "First, I explored the Artist column and checked the Unique Artist in my dataset. I got to know what percentage of my playlist has Unique Artists and Top 10 Artists. Then I explored the Song Tracks column for the similar Unique Songs and Top 10 Songs insights. Finally I came to the actual usage statistics, I explored Day Wise Usage, Average Usage In a Year and Average Usage In a Day. I got useful insights like that I mostly use Spotify on Fridays, my maximum usage over a day is in between 4 PM - 6 PM and April is the peak month of my yearly usage."
   ]
  },
  {
   "cell_type": "markdown",
   "id": "cf9a8f16",
   "metadata": {},
   "source": [
    "Then comes the Asking and Answering Questions part where we set aside a lot of questions before downloading our dataset. I tried to answer the questions with the help of the dataset if possible and also curated some random playlist for my future usage. Some of the questions are:\n",
    "\n"
   ]
  },
  {
   "cell_type": "markdown",
   "id": "dfc5c7a2",
   "metadata": {},
   "source": [
    "1.How many hours have I spent on Spotify Streaming since the day I signed up for it?\n"
   ]
  },
  {
   "cell_type": "markdown",
   "id": "abc6cabb",
   "metadata": {},
   "source": [
    "2.What is the average number of songs I played daily ?\n"
   ]
  },
  {
   "cell_type": "markdown",
   "id": "be6de15e",
   "metadata": {},
   "source": [
    "3.On which day did I play the maximum number of songs ? Plot a scatter plot to show all the dates."
   ]
  },
  {
   "cell_type": "markdown",
   "id": "8b2ea8af",
   "metadata": {},
   "source": [
    "4.Who are my favourite 100 Artists ? Make a My Favourite Artist playlist for the user.\n"
   ]
  },
  {
   "cell_type": "markdown",
   "id": "da4e9ac4",
   "metadata": {},
   "source": [
    "5.What are My Favourite 100 Songs ?\n"
   ]
  },
  {
   "cell_type": "markdown",
   "id": "4a8a867d",
   "metadata": {},
   "source": [
    "Then we came to the last part of our project Inferences and Conclusions, where we summarise the results we got over the whole process. These are some unique and useful insights which I can use to know my usage as well as for spotify which can use this for making the application more user friendly. Some of the useful insights are:\n",
    "\n"
   ]
  },
  {
   "cell_type": "markdown",
   "id": "a9d19449",
   "metadata": {},
   "source": [
    "I have played songs of 2359 Unique Artists which comprises 21.83 % of total artists in my streaming history,I have played 4068 Unique Songs which comprises 37.65 % of total songs in my streaming history.\n",
    "Of all the days, I'm most active on Spotify on Fridays.\n",
    "My most active hours range from 8 AM to 7 PM. Maximum around 4PM-5PM hour period and Minimum at12AM-1PM hour period.\n",
    "I played 39 songs on average per day.\n",
    "On 21st April 2021 I played 390 Songs which is my personal maximum.\n",
    "Since the day I created my Spotify Account, I have played the most songs in April 2021.\n",
    "I have spent almost 369 hours streaming on spotify till now. That's about 5.5% of the possible 6688.5 hours\n",
    "My favourite artist whom I've played with the most is Lauv. While my favourite song is bitches broken hearts by Billie Eilish\n"
   ]
  },
  {
   "cell_type": "markdown",
   "id": "43374912",
   "metadata": {},
   "source": [
    "# Thank you"
   ]
  },
  {
   "cell_type": "code",
   "execution_count": null,
   "id": "2d7c4631",
   "metadata": {},
   "outputs": [],
   "source": []
  }
 ],
 "metadata": {
  "kernelspec": {
   "display_name": "Python 3",
   "language": "python",
   "name": "python3"
  },
  "language_info": {
   "codemirror_mode": {
    "name": "ipython",
    "version": 3
   },
   "file_extension": ".py",
   "mimetype": "text/x-python",
   "name": "python",
   "nbconvert_exporter": "python",
   "pygments_lexer": "ipython3",
   "version": "3.8.8"
  }
 },
 "nbformat": 4,
 "nbformat_minor": 5
}
